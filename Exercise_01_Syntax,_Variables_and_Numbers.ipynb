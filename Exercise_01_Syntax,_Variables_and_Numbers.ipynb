{
  "nbformat": 4,
  "nbformat_minor": 0,
  "metadata": {
    "colab": {
      "name": "Exercise 01 - Syntax, Variables and Numbers.ipynb",
      "provenance": [],
      "authorship_tag": "ABX9TyORiRDj4fUHEAD8AKT31BMx",
      "include_colab_link": true
    },
    "kernelspec": {
      "name": "python3",
      "display_name": "Python 3"
    },
    "language_info": {
      "name": "python"
    }
  },
  "cells": [
    {
      "cell_type": "markdown",
      "metadata": {
        "id": "view-in-github",
        "colab_type": "text"
      },
      "source": [
        "<a href=\"https://colab.research.google.com/github/phanlinh0803/atom-assignments/blob/Phan-Linh-assigntment-03/Exercise_01_Syntax%2C_Variables_and_Numbers.ipynb\" target=\"_parent\"><img src=\"https://colab.research.google.com/assets/colab-badge.svg\" alt=\"Open In Colab\"/></a>"
      ]
    },
    {
      "cell_type": "markdown",
      "metadata": {
        "id": "ujx0-Zac-gI1"
      },
      "source": [
        "**Exercise 01 - Syntax, Variables and Numbers**\n"
      ]
    },
    {
      "cell_type": "markdown",
      "metadata": {
        "id": "p2GVQCry-cHD"
      },
      "source": [
        "Welcome to your first set of Python coding problems!\n",
        "\n",
        "Notebooks are composed of blocks (called \"cells\") of text and code. Each of these is editable, though you'll mainly be editing the code cells to answer some questions.\n",
        "\n",
        "To get started, try running the code cell below (by pressing the ►| Run button, or clicking on the cell and pressing ctrl+Enter/shift+Enter on your keyboard)."
      ]
    },
    {
      "cell_type": "code",
      "metadata": {
        "id": "YXVfkSshAoN-"
      },
      "source": [
        ""
      ],
      "execution_count": null,
      "outputs": []
    },
    {
      "cell_type": "code",
      "metadata": {
        "colab": {
          "base_uri": "https://localhost:8080/"
        },
        "id": "ZGnJhaEC-Tau",
        "outputId": "7e67df93-82ac-491e-8a32-134820d5211d"
      },
      "source": [
        "print(\"You've successfully run some Python code\")\n",
        "print(\"Congratulations!\")"
      ],
      "execution_count": 1,
      "outputs": [
        {
          "output_type": "stream",
          "text": [
            "You've successfully run some Python code\n",
            "Congratulations!\n"
          ],
          "name": "stdout"
        }
      ]
    },
    {
      "cell_type": "code",
      "metadata": {
        "id": "APO6RmcMApRM"
      },
      "source": [
        ""
      ],
      "execution_count": null,
      "outputs": []
    },
    {
      "cell_type": "markdown",
      "metadata": {
        "id": "MAuMsQarAqJZ"
      },
      "source": [
        "Try adding another line of code in the cell above and re-running it.\n",
        "\n",
        "Now let's get a little fancier: Add a new code cell by clicking on an existing code cell, hitting the escape key (turn to command mode), and then hitting the a or b key.\n",
        "\n",
        "The a key will add a cell above the current cell.\n",
        "The b adds a cell below.\n",
        "Great! Now you know how to use Notebooks."
      ]
    },
    {
      "cell_type": "markdown",
      "metadata": {
        "id": "OdmizekrAwuw"
      },
      "source": [
        "**0. Creating a Variable**"
      ]
    },
    {
      "cell_type": "markdown",
      "metadata": {
        "id": "NRBmUgKAA1t3"
      },
      "source": [
        "What is your favorite color?\n",
        "\n",
        "To complete this question, create a variable called color in the cell below with an appropriate string value."
      ]
    },
    {
      "cell_type": "code",
      "metadata": {
        "colab": {
          "base_uri": "https://localhost:8080/"
        },
        "id": "I71QDU6JCdnT",
        "outputId": "01a56635-bfae-4b35-a6de-c1b160e359b8"
      },
      "source": [
        "color = 'green'\n",
        "print ('My favorite color is',color)"
      ],
      "execution_count": 4,
      "outputs": [
        {
          "output_type": "stream",
          "text": [
            "My favorite color is green\n"
          ],
          "name": "stdout"
        }
      ]
    },
    {
      "cell_type": "code",
      "metadata": {
        "id": "H0F1ej_PA7ZZ"
      },
      "source": [
        "# Create a variable called color with an appropriate value on the line below\n",
        "# (Remember, strings in Python must be enclosed in 'single' or \"double\" quotes)"
      ],
      "execution_count": null,
      "outputs": []
    },
    {
      "cell_type": "code",
      "metadata": {
        "colab": {
          "base_uri": "https://localhost:8080/"
        },
        "id": "7nQqfIV9BUHv",
        "outputId": "b472fae7-40f2-4bcf-bd2e-8d4bc53b19db"
      },
      "source": [
        "pi = 3.14159 # approximate\n",
        "diameter = 3\n",
        "\n",
        "# Create a variable called 'radius' equal to half the diameter\n",
        "radius = diameter/2\n",
        "# Create a variable called 'area', using the formula for the area of a circle: pi times the radius squared\n",
        "area = radius**2 * pi\n",
        "print('Area =',area)"
      ],
      "execution_count": 6,
      "outputs": [
        {
          "output_type": "stream",
          "text": [
            "Area = 7.0685775\n"
          ],
          "name": "stdout"
        }
      ]
    },
    {
      "cell_type": "markdown",
      "metadata": {
        "id": "l1kHncYLCwAD"
      },
      "source": [
        "**2. Variable Reassignment**"
      ]
    },
    {
      "cell_type": "markdown",
      "metadata": {
        "id": "5GkS1OJOC1T2"
      },
      "source": [
        "Add code to the following cell to swap variables a and b (so that a refers to the object previously referred to by b and vice versa)."
      ]
    },
    {
      "cell_type": "code",
      "metadata": {
        "colab": {
          "base_uri": "https://localhost:8080/"
        },
        "id": "IJ9R2sSRC8-6",
        "outputId": "6ffb4048-8a8d-405d-d85a-33276dd7bba5"
      },
      "source": [
        "# If you're curious, these are examples of lists. We'll talk about \n",
        "# them in depth a few lessons from now. For now, just know that they're\n",
        "# yet another type of Python object, like int or float.\n",
        "a = [1, 2, 3]\n",
        "b = [3, 2, 1]\n",
        "\n",
        "######################################################################\n",
        "\n",
        "# Your code goes here. Swap the values to which a and b refer.\n",
        "print('a =',b)\n",
        "print('b =',a)\n",
        "# Hint: Try using a third variable"
      ],
      "execution_count": 11,
      "outputs": [
        {
          "output_type": "stream",
          "text": [
            "a = [3, 2, 1]\n",
            "b = [1, 2, 3]\n"
          ],
          "name": "stdout"
        }
      ]
    },
    {
      "cell_type": "markdown",
      "metadata": {
        "id": "DszzLKhNEd7O"
      },
      "source": [
        "**3. Order of Operations**"
      ]
    },
    {
      "cell_type": "markdown",
      "metadata": {
        "id": "CgcjjctFEiwd"
      },
      "source": [
        "a) Add parentheses to the following expression so that it evaluates to 1.\n",
        "\n",
        "Hint: Following its default \"PEMDAS\"-like rules for order of operations, Python will first divide 3 by 2, then subtract the result from 5. You need to add parentheses to force it to perform the subtraction first."
      ]
    },
    {
      "cell_type": "code",
      "metadata": {
        "colab": {
          "base_uri": "https://localhost:8080/"
        },
        "id": "j-MzajpIEoXK",
        "outputId": "0675a009-4760-4c01-ed27-8d5ac5873d1a"
      },
      "source": [
        "(5 - 3) // 2"
      ],
      "execution_count": 19,
      "outputs": [
        {
          "output_type": "execute_result",
          "data": {
            "text/plain": [
              "1"
            ]
          },
          "metadata": {
            "tags": []
          },
          "execution_count": 19
        }
      ]
    },
    {
      "cell_type": "markdown",
      "metadata": {
        "id": "6fge9S5CEz8m"
      },
      "source": [
        "b) 🌶️ Add parentheses to the following expression so that it evaluates to 0."
      ]
    },
    {
      "cell_type": "code",
      "metadata": {
        "colab": {
          "base_uri": "https://localhost:8080/"
        },
        "id": "tMXbuUtUE5ZU",
        "outputId": "4dde316e-918c-4d34-cbc2-8ac4c3ae738f"
      },
      "source": [
        "(8 - 3) * (2 - (1 + 1))"
      ],
      "execution_count": 22,
      "outputs": [
        {
          "output_type": "execute_result",
          "data": {
            "text/plain": [
              "0"
            ]
          },
          "metadata": {
            "tags": []
          },
          "execution_count": 22
        }
      ]
    },
    {
      "cell_type": "markdown",
      "metadata": {
        "id": "PQSQBx9yFuHd"
      },
      "source": [
        "**4. Your Turn**"
      ]
    },
    {
      "cell_type": "markdown",
      "metadata": {
        "id": "KRNdk2a5F0vr"
      },
      "source": [
        "Alice, Bob and Carol have agreed to pool their Halloween candies and split it evenly among themselves. For the sake of their friendship, any candies left over will be smashed. For example, if they collectively bring home 91 candies, they'll take 30 each and smash 1.\n",
        "\n",
        "Write an arithmetic expression below to calculate how many candies they must smash for a given haul."
      ]
    },
    {
      "cell_type": "code",
      "metadata": {
        "id": "fQaJwTjmF4ph"
      },
      "source": [
        "# Variables representing the number of candies collected by Alice, Bob, and Carol\n",
        "alice_candies = 121\n",
        "bob_candies = 77\n",
        "carol_candies = 109\n",
        "\n",
        "# Your code goes here! Replace the right-hand side of this assignment with an expression\n",
        "# involving alice_candies, bob_candies, and carol_candies\n",
        "\n",
        "to_smash = (alice_candies + bob_candies + carol_candies) % 3"
      ],
      "execution_count": 59,
      "outputs": []
    },
    {
      "cell_type": "code",
      "metadata": {
        "colab": {
          "base_uri": "https://localhost:8080/",
          "height": 164
        },
        "id": "EiJ3uwXhasDG",
        "outputId": "79e655b8-122a-4936-bf92-053946e2402a"
      },
      "source": [
        "print ('to_smash')"
      ],
      "execution_count": 63,
      "outputs": [
        {
          "output_type": "error",
          "ename": "TypeError",
          "evalue": "ignored",
          "traceback": [
            "\u001b[0;31m---------------------------------------------------------------------------\u001b[0m",
            "\u001b[0;31mTypeError\u001b[0m                                 Traceback (most recent call last)",
            "\u001b[0;32m<ipython-input-63-fb12b09e5f3d>\u001b[0m in \u001b[0;36m<module>\u001b[0;34m()\u001b[0m\n\u001b[0;32m----> 1\u001b[0;31m \u001b[0mprint\u001b[0m \u001b[0;34m(\u001b[0m\u001b[0;34m'to_smash'\u001b[0m\u001b[0;34m)\u001b[0m\u001b[0;34m\u001b[0m\u001b[0;34m\u001b[0m\u001b[0m\n\u001b[0m",
            "\u001b[0;31mTypeError\u001b[0m: 'int' object is not callable"
          ]
        }
      ]
    }
  ]
}