{
  "nbformat": 4,
  "nbformat_minor": 0,
  "metadata": {
    "colab": {
      "name": "Exercise 02 - Functions and Getting Help.ipynb",
      "provenance": [],
      "authorship_tag": "ABX9TyP8+aAKDt1Wp7OuAyg1vpEP",
      "include_colab_link": true
    },
    "kernelspec": {
      "name": "python3",
      "display_name": "Python 3"
    },
    "language_info": {
      "name": "python"
    }
  },
  "cells": [
    {
      "cell_type": "markdown",
      "metadata": {
        "id": "view-in-github",
        "colab_type": "text"
      },
      "source": [
        "<a href=\"https://colab.research.google.com/github/phanlinh0803/atom-assignments/blob/Phan-Linh-assigntment-03/Exercise_02_Functions_and_Getting_Help.ipynb\" target=\"_parent\"><img src=\"https://colab.research.google.com/assets/colab-badge.svg\" alt=\"Open In Colab\"/></a>"
      ]
    },
    {
      "cell_type": "markdown",
      "metadata": {
        "id": "oPvd2CHwIYln"
      },
      "source": [
        "**Exercise 02 - Functions and Getting Help**"
      ]
    },
    {
      "cell_type": "markdown",
      "metadata": {
        "id": "B1B-x6d4IhAo"
      },
      "source": [
        "**1. Complete Your Very First Function**\n",
        "\n",
        "Complete the body of the following function according to its docstring.\n",
        "\n",
        "HINT: Python has a built in function round\n",
        "\n",
        "\n"
      ]
    },
    {
      "cell_type": "code",
      "metadata": {
        "colab": {
          "base_uri": "https://localhost:8080/"
        },
        "id": "_6P799XWIRYj",
        "outputId": "e738ddb4-1060-4602-a9ec-0265d3883ad3"
      },
      "source": [
        "def round_to_two_places(num):\n",
        "\n",
        "    a = round(num, 2)\n",
        "    print ('round_to_two_places =',a)\n",
        "    \n",
        "round_to_two_places(3.14159)\n",
        "    \n",
        "    # Replace this body with your own code.\n",
        "    # (\"pass\" is a keyword that does literally nothing. We used it as a placeholder,\n",
        "    # so that it will not raise any errors,\n",
        "    # because after we begin a code block, Python requires at least one line of code)"
      ],
      "execution_count": 3,
      "outputs": [
        {
          "output_type": "stream",
          "text": [
            "round_to_two_places = 3.14\n"
          ],
          "name": "stdout"
        }
      ]
    },
    {
      "cell_type": "markdown",
      "metadata": {
        "id": "miHei3ybMSOL"
      },
      "source": [
        "**2. Explore the Built-in Function**"
      ]
    },
    {
      "cell_type": "markdown",
      "metadata": {
        "id": "quClJh80MW62"
      },
      "source": [
        "The help for round says that ndigits (the second argument) may be negative. What do you think will happen when it is? Try some examples in the following cell?\n",
        "\n",
        "Can you think of a case where this would be useful?"
      ]
    }
  ]
}