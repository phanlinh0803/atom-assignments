{
  "nbformat": 4,
  "nbformat_minor": 0,
  "metadata": {
    "colab": {
      "name": "ATOM | Phan-Linh-Home Assignment 04.ipynb",
      "provenance": [],
      "collapsed_sections": [],
      "authorship_tag": "ABX9TyOIsbfjLaYyK5Q6BgXI55i7",
      "include_colab_link": true
    },
    "kernelspec": {
      "name": "python3",
      "display_name": "Python 3"
    },
    "language_info": {
      "name": "python"
    }
  },
  "cells": [
    {
      "cell_type": "markdown",
      "metadata": {
        "id": "view-in-github",
        "colab_type": "text"
      },
      "source": [
        "<a href=\"https://colab.research.google.com/github/phanlinh0803/atom-assignments/blob/PhanLinh-assignment-04/ATOM_%7C_Phan_Linh_Home_Assignment_04.ipynb\" target=\"_parent\"><img src=\"https://colab.research.google.com/assets/colab-badge.svg\" alt=\"Open In Colab\"/></a>"
      ]
    },
    {
      "cell_type": "code",
      "metadata": {
        "colab": {
          "base_uri": "https://localhost:8080/"
        },
        "id": "pJ4rtEiBuwVi",
        "outputId": "137abc33-f86f-4fbe-df58-bea1235b108d"
      },
      "source": [
        "!pip install duckdb"
      ],
      "execution_count": 3,
      "outputs": [
        {
          "output_type": "stream",
          "text": [
            "Collecting duckdb\n",
            "\u001b[?25l  Downloading https://files.pythonhosted.org/packages/86/57/d6c01b90435e5aa08421831556cf2abed72be7f79eeef029c2e239bda390/duckdb-0.2.6-cp37-cp37m-manylinux2010_x86_64.whl (8.5MB)\n",
            "\u001b[K     |████████████████████████████████| 8.5MB 20.2MB/s \n",
            "\u001b[?25hRequirement already satisfied: numpy>=1.14 in /usr/local/lib/python3.7/dist-packages (from duckdb) (1.19.5)\n",
            "Installing collected packages: duckdb\n",
            "Successfully installed duckdb-0.2.6\n"
          ],
          "name": "stdout"
        }
      ]
    },
    {
      "cell_type": "code",
      "metadata": {
        "id": "cnxWlCR8Coli"
      },
      "source": [
        "import requests # -> Để call API\n",
        "import json # -> Xử lý file JSON\n",
        "import pandas as pd # -> Thư viện xử lý dữ liệu dạng bảng\n",
        "import re # -> Thư viện xử lý text: regular expressions\n",
        "from datetime import datetime as dt # -> Thư viện xử lý dữ liệu thời gian\n",
        "import duckdb # -> Thư viện \"giả lập\" xử lý dữ liệu bằng SQL\n",
        "import numpy as np"
      ],
      "execution_count": 4,
      "outputs": []
    },
    {
      "cell_type": "markdown",
      "metadata": {
        "id": "UAxRg70sFjAd"
      },
      "source": [
        "**STEP 0: XEM LẠI DATA ĐÃ CÓ (SLACK API)**\n",
        "\n",
        "Ở bước đầu tiên, ta xem lại tất cả các data của DATACracy Atom mà ra đã biết:\n",
        "\n",
        "Data từ Slack API:\n",
        "- Danh sách thành viên\n",
        "- Danh sách các channels\n",
        "- Lịch sử tin nhắn trên các channels\n",
        "- Data do dự án tự collect - File CSV (trích xuất từ Google Spreadsheet):\n",
        "- Danh sách thành viên được phân theo vị trí (mentors, learners, BTC)"
      ]
    },
    {
      "cell_type": "code",
      "metadata": {
        "id": "lOIfbHhumN8u"
      },
      "source": [
        "## Load Token file \n",
        "## WARNING!! --- Put it in gitignore and DO NOT print out to notebook\n",
        "with open('global_env.json', 'r') as j:\n",
        "     json_data = json.load(j)"
      ],
      "execution_count": 7,
      "outputs": []
    },
    {
      "cell_type": "markdown",
      "metadata": {
        "id": "gT57_s81mTNY"
      },
      "source": [
        "**0.1. Pull List of Members**"
      ]
    },
    {
      "cell_type": "code",
      "metadata": {
        "colab": {
          "base_uri": "https://localhost:8080/",
          "height": 204
        },
        "id": "62cQCA-RmUdJ",
        "outputId": "3ff96909-4628-47c1-b5fb-2e62571d4131"
      },
      "source": [
        "# 1. LIST OF SLACK MEMBERS \n",
        "\n",
        "## Pull list of member as JSON\n",
        "## Gọi API từ Endpoints (Input - Token được đưa vào Headers)\n",
        "## Challenge: Thử gọi API này bằng Postman\n",
        "endpoint = \"https://slack.com/api/users.list\"\n",
        "headers = {\"Authorization\": \"Bearer {}\".format(json_data['SLACK_BEARER_TOKEN'])}\n",
        "response_json = requests.post(endpoint, headers=headers).json() \n",
        "user_dat = response_json['members']\n",
        "\n",
        "## Convert to CSV\n",
        "user_dict = {'user_id':[],'name':[],'display_name':[],'real_name':[],'title':[],'is_bot':[]}\n",
        "for i in range(len(user_dat)):\n",
        "  user_dict['user_id'].append(user_dat[i]['id'])\n",
        "  user_dict['name'].append(user_dat[i]['name'])\n",
        "  user_dict['display_name'].append(user_dat[i]['profile']['display_name'])\n",
        "  user_dict['real_name'].append(user_dat[i]['profile']['real_name_normalized'])\n",
        "  user_dict['title'].append(user_dat[i]['profile']['title'])\n",
        "  user_dict['is_bot'].append(user_dat[i]['is_bot'])\n",
        "\n",
        "user_df = pd.DataFrame(user_dict) \n",
        "user_df = user_df.replace('', np.nan) # -> replace khoảng trắng bằng giá trị NULL (nan)\n",
        "user_df.head()"
      ],
      "execution_count": 8,
      "outputs": [
        {
          "output_type": "execute_result",
          "data": {
            "text/html": [
              "<div>\n",
              "<style scoped>\n",
              "    .dataframe tbody tr th:only-of-type {\n",
              "        vertical-align: middle;\n",
              "    }\n",
              "\n",
              "    .dataframe tbody tr th {\n",
              "        vertical-align: top;\n",
              "    }\n",
              "\n",
              "    .dataframe thead th {\n",
              "        text-align: right;\n",
              "    }\n",
              "</style>\n",
              "<table border=\"1\" class=\"dataframe\">\n",
              "  <thead>\n",
              "    <tr style=\"text-align: right;\">\n",
              "      <th></th>\n",
              "      <th>user_id</th>\n",
              "      <th>name</th>\n",
              "      <th>display_name</th>\n",
              "      <th>real_name</th>\n",
              "      <th>title</th>\n",
              "      <th>is_bot</th>\n",
              "    </tr>\n",
              "  </thead>\n",
              "  <tbody>\n",
              "    <tr>\n",
              "      <th>0</th>\n",
              "      <td>USLACKBOT</td>\n",
              "      <td>slackbot</td>\n",
              "      <td>Slackbot</td>\n",
              "      <td>Slackbot</td>\n",
              "      <td>NaN</td>\n",
              "      <td>False</td>\n",
              "    </tr>\n",
              "    <tr>\n",
              "      <th>1</th>\n",
              "      <td>U01AT4T75JB</td>\n",
              "      <td>loclexuan26392</td>\n",
              "      <td>Loc Le Xuan</td>\n",
              "      <td>Loc Le Xuan</td>\n",
              "      <td>NaN</td>\n",
              "      <td>False</td>\n",
              "    </tr>\n",
              "    <tr>\n",
              "      <th>2</th>\n",
              "      <td>U01AVDY7JET</td>\n",
              "      <td>locle.ds</td>\n",
              "      <td>Loc Le Xuan</td>\n",
              "      <td>Loc Le Xuan</td>\n",
              "      <td>NaN</td>\n",
              "      <td>False</td>\n",
              "    </tr>\n",
              "    <tr>\n",
              "      <th>3</th>\n",
              "      <td>U01BE2PR6LU</td>\n",
              "      <td>maianhdang.ftu</td>\n",
              "      <td>MAD</td>\n",
              "      <td>Dặng Huỳnh Mai Anh</td>\n",
              "      <td>Technical Contents</td>\n",
              "      <td>False</td>\n",
              "    </tr>\n",
              "    <tr>\n",
              "      <th>4</th>\n",
              "      <td>U01C48T7S1J</td>\n",
              "      <td>huyenhoang.design</td>\n",
              "      <td>Thanh Huyen Hoang</td>\n",
              "      <td>Thanh Huyen Hoang</td>\n",
              "      <td>NaN</td>\n",
              "      <td>False</td>\n",
              "    </tr>\n",
              "  </tbody>\n",
              "</table>\n",
              "</div>"
            ],
            "text/plain": [
              "       user_id               name  ...               title is_bot\n",
              "0    USLACKBOT           slackbot  ...                 NaN  False\n",
              "1  U01AT4T75JB     loclexuan26392  ...                 NaN  False\n",
              "2  U01AVDY7JET           locle.ds  ...                 NaN  False\n",
              "3  U01BE2PR6LU     maianhdang.ftu  ...  Technical Contents  False\n",
              "4  U01C48T7S1J  huyenhoang.design  ...                 NaN  False\n",
              "\n",
              "[5 rows x 6 columns]"
            ]
          },
          "metadata": {
            "tags": []
          },
          "execution_count": 8
        }
      ]
    },
    {
      "cell_type": "code",
      "metadata": {
        "colab": {
          "base_uri": "https://localhost:8080/"
        },
        "id": "734aPJ3aur3W",
        "outputId": "e1db25a3-2dce-4cd4-a0b1-230a247e1a1c"
      },
      "source": [
        "user_df.info()"
      ],
      "execution_count": 9,
      "outputs": [
        {
          "output_type": "stream",
          "text": [
            "<class 'pandas.core.frame.DataFrame'>\n",
            "RangeIndex: 75 entries, 0 to 74\n",
            "Data columns (total 6 columns):\n",
            " #   Column        Non-Null Count  Dtype \n",
            "---  ------        --------------  ----- \n",
            " 0   user_id       75 non-null     object\n",
            " 1   name          75 non-null     object\n",
            " 2   display_name  50 non-null     object\n",
            " 3   real_name     75 non-null     object\n",
            " 4   title         6 non-null      object\n",
            " 5   is_bot        75 non-null     bool  \n",
            "dtypes: bool(1), object(5)\n",
            "memory usage: 3.1+ KB\n"
          ],
          "name": "stdout"
        }
      ]
    },
    {
      "cell_type": "markdown",
      "metadata": {
        "id": "_kCmH0TXuwIq"
      },
      "source": [
        "**0.2. List of Channels**"
      ]
    },
    {
      "cell_type": "code",
      "metadata": {
        "colab": {
          "base_uri": "https://localhost:8080/",
          "height": 340
        },
        "id": "iAiJP5SQu2AM",
        "outputId": "4a16973b-2210-47b8-ba76-bce0c6e8f1b4"
      },
      "source": [
        "# 2. LIST OF SLACK CHANNELS\n",
        "\n",
        "endpoint2 = \"https://slack.com/api/conversations.list\"\n",
        "data = {'types': 'public_channel,private_channel'} # -> CHECK: API Docs https://api.slack.com/methods/conversations.list/test\n",
        "response_json = requests.post(endpoint2, headers=headers, data=data).json() \n",
        "channel_dat = response_json['channels']\n",
        "\n",
        "channel_dict = {'channel_id':[], 'channel_name':[], 'is_channel':[],'creator':[],'created_at':[],'topics':[],'purpose':[],'num_members':[]}\n",
        "for i in range(len(channel_dat)):\n",
        "  channel_dict['channel_id'].append(channel_dat[i]['id'])\n",
        "  channel_dict['channel_name'].append(channel_dat[i]['name'])\n",
        "  channel_dict['is_channel'].append(channel_dat[i]['is_channel'])\n",
        "  channel_dict['creator'].append(channel_dat[i]['creator'])\n",
        "  channel_dict['created_at'].append(dt.fromtimestamp(float(channel_dat[i]['created'])))\n",
        "  channel_dict['topics'].append(channel_dat[i]['topic']['value'])\n",
        "  channel_dict['purpose'].append(channel_dat[i]['purpose']['value'])\n",
        "  channel_dict['num_members'].append(channel_dat[i]['num_members'])\n",
        "\n",
        "channel_df = pd.DataFrame(channel_dict) \n",
        "channel_df = channel_df.replace('', np.nan) # -> replace khoảng trắng bằng giá trị NULL (nan)\n",
        "channel_df.head()"
      ],
      "execution_count": 16,
      "outputs": [
        {
          "output_type": "execute_result",
          "data": {
            "text/html": [
              "<div>\n",
              "<style scoped>\n",
              "    .dataframe tbody tr th:only-of-type {\n",
              "        vertical-align: middle;\n",
              "    }\n",
              "\n",
              "    .dataframe tbody tr th {\n",
              "        vertical-align: top;\n",
              "    }\n",
              "\n",
              "    .dataframe thead th {\n",
              "        text-align: right;\n",
              "    }\n",
              "</style>\n",
              "<table border=\"1\" class=\"dataframe\">\n",
              "  <thead>\n",
              "    <tr style=\"text-align: right;\">\n",
              "      <th></th>\n",
              "      <th>channel_id</th>\n",
              "      <th>channel_name</th>\n",
              "      <th>is_channel</th>\n",
              "      <th>creator</th>\n",
              "      <th>created_at</th>\n",
              "      <th>topics</th>\n",
              "      <th>purpose</th>\n",
              "      <th>num_members</th>\n",
              "    </tr>\n",
              "  </thead>\n",
              "  <tbody>\n",
              "    <tr>\n",
              "      <th>0</th>\n",
              "      <td>C01B4PVGLVB</td>\n",
              "      <td>general</td>\n",
              "      <td>True</td>\n",
              "      <td>U01BE2PR6LU</td>\n",
              "      <td>2020-09-23 10:25:03</td>\n",
              "      <td>NaN</td>\n",
              "      <td>This is the one channel that will always inclu...</td>\n",
              "      <td>65</td>\n",
              "    </tr>\n",
              "    <tr>\n",
              "      <th>1</th>\n",
              "      <td>C01BYH7JHB5</td>\n",
              "      <td>contents</td>\n",
              "      <td>True</td>\n",
              "      <td>U01BE2PR6LU</td>\n",
              "      <td>2020-10-05 07:28:09</td>\n",
              "      <td>NaN</td>\n",
              "      <td>NaN</td>\n",
              "      <td>12</td>\n",
              "    </tr>\n",
              "    <tr>\n",
              "      <th>2</th>\n",
              "      <td>C01CAMNCJJV</td>\n",
              "      <td>branding-design</td>\n",
              "      <td>True</td>\n",
              "      <td>U01AVDY7JET</td>\n",
              "      <td>2020-10-05 03:16:30</td>\n",
              "      <td>NaN</td>\n",
              "      <td>NaN</td>\n",
              "      <td>9</td>\n",
              "    </tr>\n",
              "    <tr>\n",
              "      <th>3</th>\n",
              "      <td>C01U6P7LZ8F</td>\n",
              "      <td>atom-assignment1</td>\n",
              "      <td>True</td>\n",
              "      <td>U01BE2PR6LU</td>\n",
              "      <td>2021-04-17 07:00:04</td>\n",
              "      <td>Assigment#1 - Python Basics &amp;amp; Spreadsheet ...</td>\n",
              "      <td>Where learners submit assignments and give rev...</td>\n",
              "      <td>44</td>\n",
              "    </tr>\n",
              "    <tr>\n",
              "      <th>4</th>\n",
              "      <td>C01UL6K1C7L</td>\n",
              "      <td>atom-week1</td>\n",
              "      <td>True</td>\n",
              "      <td>U01BE2PR6LU</td>\n",
              "      <td>2021-04-16 17:44:32</td>\n",
              "      <td>TOPIC: Data Strategy. Metrics Design. Spreadsh...</td>\n",
              "      <td>TOPIC: Data Strategy. Metrics Design. Spreadsh...</td>\n",
              "      <td>43</td>\n",
              "    </tr>\n",
              "  </tbody>\n",
              "</table>\n",
              "</div>"
            ],
            "text/plain": [
              "    channel_id  ... num_members\n",
              "0  C01B4PVGLVB  ...          65\n",
              "1  C01BYH7JHB5  ...          12\n",
              "2  C01CAMNCJJV  ...           9\n",
              "3  C01U6P7LZ8F  ...          44\n",
              "4  C01UL6K1C7L  ...          43\n",
              "\n",
              "[5 rows x 8 columns]"
            ]
          },
          "metadata": {
            "tags": []
          },
          "execution_count": 16
        }
      ]
    },
    {
      "cell_type": "code",
      "metadata": {
        "colab": {
          "base_uri": "https://localhost:8080/"
        },
        "id": "26DWExFavOzF",
        "outputId": "9cad525a-741e-428b-d7dd-e575c6d7f51b"
      },
      "source": [
        "channel_df.info()"
      ],
      "execution_count": 17,
      "outputs": [
        {
          "output_type": "stream",
          "text": [
            "<class 'pandas.core.frame.DataFrame'>\n",
            "RangeIndex: 19 entries, 0 to 18\n",
            "Data columns (total 8 columns):\n",
            " #   Column        Non-Null Count  Dtype         \n",
            "---  ------        --------------  -----         \n",
            " 0   channel_id    19 non-null     object        \n",
            " 1   channel_name  19 non-null     object        \n",
            " 2   is_channel    19 non-null     bool          \n",
            " 3   creator       19 non-null     object        \n",
            " 4   created_at    19 non-null     datetime64[ns]\n",
            " 5   topics        6 non-null      object        \n",
            " 6   purpose       13 non-null     object        \n",
            " 7   num_members   19 non-null     int64         \n",
            "dtypes: bool(1), datetime64[ns](1), int64(1), object(5)\n",
            "memory usage: 1.2+ KB\n"
          ],
          "name": "stdout"
        }
      ]
    },
    {
      "cell_type": "markdown",
      "metadata": {
        "id": "gcXF_N0BvWdB"
      },
      "source": [
        "**0.3. Message Data**"
      ]
    },
    {
      "cell_type": "code",
      "metadata": {
        "id": "JURIC_8bvX4f"
      },
      "source": [
        "endpoint3 = \"https://slack.com/api/conversations.history\""
      ],
      "execution_count": 18,
      "outputs": []
    },
    {
      "cell_type": "code",
      "metadata": {
        "colab": {
          "base_uri": "https://localhost:8080/"
        },
        "id": "wPjTmWkJvdsG",
        "outputId": "cc947a86-df32-4b6f-c82f-8f16feb45665"
      },
      "source": [
        "msg_dict = {'channel_id':[],'msg_id':[], 'msg_ts':[], 'user_id':[], 'latest_reply':[],'reply_user_count':[],'reply_users':[],'github_link':[]}\n",
        "for channel_id, channel_name in zip(channel_df['channel_id'], channel_df['channel_name']):\n",
        "  print('Channel ID: {} - Channel Name: {}'.format(channel_id, channel_name))\n",
        "  try:\n",
        "    data = {\"channel\": channel_id} \n",
        "    response_json = requests.post(endpoint3, data=data, headers=headers).json()\n",
        "    msg_ls = response_json['messages']\n",
        "    for i in range(len(msg_ls)):\n",
        "      if 'client_msg_id' in msg_ls[i].keys():\n",
        "        msg_dict['channel_id'].append(channel_id)\n",
        "        msg_dict['msg_id'].append(msg_ls[i]['client_msg_id'])\n",
        "        msg_dict['msg_ts'].append(dt.fromtimestamp(float(msg_ls[i]['ts'])))\n",
        "        msg_dict['latest_reply'].append(dt.fromtimestamp(float(msg_ls[i]['latest_reply'] if 'latest_reply' in msg_ls[i].keys() else 0))) ## -> No reply: 1970-01-01\n",
        "        msg_dict['user_id'].append(msg_ls[i]['user'])\n",
        "        msg_dict['reply_user_count'].append(msg_ls[i]['reply_users_count'] if 'reply_users_count' in msg_ls[i].keys() else 0)\n",
        "        msg_dict['reply_users'].append(msg_ls[i]['reply_users'] if 'reply_users' in msg_ls[i].keys() else 0) \n",
        "        ## -> Censor message contains tokens\n",
        "        text = msg_ls[i]['text']\n",
        "        github_link = re.findall('(?:https?://)?(?:www[.])?github[.]com/[\\w-]+/?', text)\n",
        "        msg_dict['github_link'].append(github_link[0] if len(github_link) > 0 else np.nan)\n",
        "  except:\n",
        "    print('====> '+ str(response_json))\n"
      ],
      "execution_count": 19,
      "outputs": [
        {
          "output_type": "stream",
          "text": [
            "Channel ID: C01B4PVGLVB - Channel Name: general\n",
            "Channel ID: C01BYH7JHB5 - Channel Name: contents\n",
            "====> {'ok': False, 'error': 'not_in_channel'}\n",
            "Channel ID: C01CAMNCJJV - Channel Name: branding-design\n",
            "====> {'ok': False, 'error': 'not_in_channel'}\n",
            "Channel ID: C01U6P7LZ8F - Channel Name: atom-assignment1\n",
            "Channel ID: C01UL6K1C7L - Channel Name: atom-week1\n",
            "Channel ID: C01ULCHGN75 - Channel Name: atom-general\n",
            "====> {'ok': False, 'error': 'not_in_channel'}\n",
            "Channel ID: C020VMT58JK - Channel Name: topics-data-analytics\n",
            "Channel ID: C0213MNH9L6 - Channel Name: topics-python\n",
            "Channel ID: C0213N56M2A - Channel Name: topics-materials\n",
            "Channel ID: C021FSDN7LJ - Channel Name: atom-assignment2\n",
            "Channel ID: C021KLB0DSB - Channel Name: discuss-group3\n",
            "Channel ID: C021KLB90GP - Channel Name: discuss-group4\n",
            "Channel ID: C02204B2CD6 - Channel Name: atom-week2\n",
            "Channel ID: C0220KU9399 - Channel Name: discuss-group1\n",
            "Channel ID: C0226D3LEQ4 - Channel Name: atom-week3\n",
            "Channel ID: C0227A51SAY - Channel Name: atom-assignment3\n",
            "Channel ID: C022Q7TGRLG - Channel Name: discuss-group2\n",
            "Channel ID: C022RRWQ6US - Channel Name: atom-assignment4\n",
            "Channel ID: C022Y1FUETE - Channel Name: atom-week4\n"
          ],
          "name": "stdout"
        }
      ]
    },
    {
      "cell_type": "code",
      "metadata": {
        "colab": {
          "base_uri": "https://localhost:8080/",
          "height": 479
        },
        "id": "iDcYFWIgvxi8",
        "outputId": "ab56ee3f-26b2-46d3-f990-a3ab58b8e14c"
      },
      "source": [
        "msg_df = pd.DataFrame(msg_dict)\n",
        "msg_df = msg_df.replace('', np.nan) # -> replace khoảng trắng bằng giá trị NULL (nan)\n",
        "msg_df.tail()"
      ],
      "execution_count": 20,
      "outputs": [
        {
          "output_type": "execute_result",
          "data": {
            "text/html": [
              "<div>\n",
              "<style scoped>\n",
              "    .dataframe tbody tr th:only-of-type {\n",
              "        vertical-align: middle;\n",
              "    }\n",
              "\n",
              "    .dataframe tbody tr th {\n",
              "        vertical-align: top;\n",
              "    }\n",
              "\n",
              "    .dataframe thead th {\n",
              "        text-align: right;\n",
              "    }\n",
              "</style>\n",
              "<table border=\"1\" class=\"dataframe\">\n",
              "  <thead>\n",
              "    <tr style=\"text-align: right;\">\n",
              "      <th></th>\n",
              "      <th>channel_id</th>\n",
              "      <th>msg_id</th>\n",
              "      <th>msg_ts</th>\n",
              "      <th>user_id</th>\n",
              "      <th>latest_reply</th>\n",
              "      <th>reply_user_count</th>\n",
              "      <th>reply_users</th>\n",
              "      <th>github_link</th>\n",
              "    </tr>\n",
              "  </thead>\n",
              "  <tbody>\n",
              "    <tr>\n",
              "      <th>278</th>\n",
              "      <td>C022RRWQ6US</td>\n",
              "      <td>3db33d2a-5666-44cf-95e0-dd33aee4e63c</td>\n",
              "      <td>2021-05-24 11:49:29.003700</td>\n",
              "      <td>U01BE2PR6LU</td>\n",
              "      <td>1970-01-01 00:00:00.000000</td>\n",
              "      <td>0</td>\n",
              "      <td>0</td>\n",
              "      <td>NaN</td>\n",
              "    </tr>\n",
              "    <tr>\n",
              "      <th>279</th>\n",
              "      <td>C022RRWQ6US</td>\n",
              "      <td>8b4a2ebb-7882-402b-8339-a0b067ce5165</td>\n",
              "      <td>2021-05-23 07:58:23.003000</td>\n",
              "      <td>U01BE2PR6LU</td>\n",
              "      <td>1970-01-01 00:00:00.000000</td>\n",
              "      <td>0</td>\n",
              "      <td>0</td>\n",
              "      <td>NaN</td>\n",
              "    </tr>\n",
              "    <tr>\n",
              "      <th>280</th>\n",
              "      <td>C022RRWQ6US</td>\n",
              "      <td>231fad01-7083-4cd0-b6b6-e97bf54779e2</td>\n",
              "      <td>2021-05-22 23:23:13.001400</td>\n",
              "      <td>U01BE2PR6LU</td>\n",
              "      <td>1970-01-01 00:00:00.000000</td>\n",
              "      <td>0</td>\n",
              "      <td>0</td>\n",
              "      <td>https://github.com/anhdanggit/</td>\n",
              "    </tr>\n",
              "    <tr>\n",
              "      <th>281</th>\n",
              "      <td>C022Y1FUETE</td>\n",
              "      <td>ee582f3d-c339-4d06-a263-b71c6470e647</td>\n",
              "      <td>2021-05-24 11:49:57.001000</td>\n",
              "      <td>U01BE2PR6LU</td>\n",
              "      <td>1970-01-01 00:00:00.000000</td>\n",
              "      <td>0</td>\n",
              "      <td>0</td>\n",
              "      <td>NaN</td>\n",
              "    </tr>\n",
              "    <tr>\n",
              "      <th>282</th>\n",
              "      <td>C022Y1FUETE</td>\n",
              "      <td>38adf48f-21cc-437c-9ad3-31cd002bc4f8</td>\n",
              "      <td>2021-05-23 07:58:05.001500</td>\n",
              "      <td>U01BE2PR6LU</td>\n",
              "      <td>2021-05-23 16:15:45.002200</td>\n",
              "      <td>1</td>\n",
              "      <td>[U01VB632FPS]</td>\n",
              "      <td>NaN</td>\n",
              "    </tr>\n",
              "  </tbody>\n",
              "</table>\n",
              "</div>"
            ],
            "text/plain": [
              "      channel_id  ...                     github_link\n",
              "278  C022RRWQ6US  ...                             NaN\n",
              "279  C022RRWQ6US  ...                             NaN\n",
              "280  C022RRWQ6US  ...  https://github.com/anhdanggit/\n",
              "281  C022Y1FUETE  ...                             NaN\n",
              "282  C022Y1FUETE  ...                             NaN\n",
              "\n",
              "[5 rows x 8 columns]"
            ]
          },
          "metadata": {
            "tags": []
          },
          "execution_count": 20
        }
      ]
    },
    {
      "cell_type": "code",
      "metadata": {
        "colab": {
          "base_uri": "https://localhost:8080/"
        },
        "id": "MRIoHR8qv1aK",
        "outputId": "d549f553-2cde-43e5-b87e-dcd72dea4f1d"
      },
      "source": [
        "msg_df.info()"
      ],
      "execution_count": 21,
      "outputs": [
        {
          "output_type": "stream",
          "text": [
            "<class 'pandas.core.frame.DataFrame'>\n",
            "RangeIndex: 283 entries, 0 to 282\n",
            "Data columns (total 8 columns):\n",
            " #   Column            Non-Null Count  Dtype         \n",
            "---  ------            --------------  -----         \n",
            " 0   channel_id        283 non-null    object        \n",
            " 1   msg_id            283 non-null    object        \n",
            " 2   msg_ts            283 non-null    datetime64[ns]\n",
            " 3   user_id           283 non-null    object        \n",
            " 4   latest_reply      283 non-null    datetime64[ns]\n",
            " 5   reply_user_count  283 non-null    int64         \n",
            " 6   reply_users       283 non-null    object        \n",
            " 7   github_link       112 non-null    object        \n",
            "dtypes: datetime64[ns](2), int64(1), object(5)\n",
            "memory usage: 17.8+ KB\n"
          ],
          "name": "stdout"
        }
      ]
    },
    {
      "cell_type": "markdown",
      "metadata": {
        "id": "1nLmD4Pzv5mh"
      },
      "source": [
        "**0.4. DataCracy Info**\n",
        "\n",
        "Data do dự án tự collect - File CSV (trích xuất từ Google Spreadsheet):\n",
        "Danh sách thành viên được phân theo vị trí (mentors, learners, BTC)\n",
        "Trong cùng folder Github assignment_4"
      ]
    },
    {
      "cell_type": "code",
      "metadata": {
        "colab": {
          "base_uri": "https://localhost:8080/",
          "height": 204
        },
        "id": "ygAqYjCuwGlM",
        "outputId": "a0c6d95d-7285-4369-cc29-a39788d63084"
      },
      "source": [
        "dtc_groups = pd.read_csv('datacracy_groups.csv')\n",
        "dtc_groups.head()"
      ],
      "execution_count": 22,
      "outputs": [
        {
          "output_type": "execute_result",
          "data": {
            "text/html": [
              "<div>\n",
              "<style scoped>\n",
              "    .dataframe tbody tr th:only-of-type {\n",
              "        vertical-align: middle;\n",
              "    }\n",
              "\n",
              "    .dataframe tbody tr th {\n",
              "        vertical-align: top;\n",
              "    }\n",
              "\n",
              "    .dataframe thead th {\n",
              "        text-align: right;\n",
              "    }\n",
              "</style>\n",
              "<table border=\"1\" class=\"dataframe\">\n",
              "  <thead>\n",
              "    <tr style=\"text-align: right;\">\n",
              "      <th></th>\n",
              "      <th>name</th>\n",
              "      <th>DataCracy_role</th>\n",
              "    </tr>\n",
              "  </thead>\n",
              "  <tbody>\n",
              "    <tr>\n",
              "      <th>0</th>\n",
              "      <td>slackbot</td>\n",
              "      <td>BTC</td>\n",
              "    </tr>\n",
              "    <tr>\n",
              "      <th>1</th>\n",
              "      <td>loclexuan26392</td>\n",
              "      <td>BTC</td>\n",
              "    </tr>\n",
              "    <tr>\n",
              "      <th>2</th>\n",
              "      <td>locle.ds</td>\n",
              "      <td>BTC</td>\n",
              "    </tr>\n",
              "    <tr>\n",
              "      <th>3</th>\n",
              "      <td>maianhdang.ftu</td>\n",
              "      <td>BTC</td>\n",
              "    </tr>\n",
              "    <tr>\n",
              "      <th>4</th>\n",
              "      <td>huyenhoang.design</td>\n",
              "      <td>BTC</td>\n",
              "    </tr>\n",
              "  </tbody>\n",
              "</table>\n",
              "</div>"
            ],
            "text/plain": [
              "                name DataCracy_role\n",
              "0           slackbot            BTC\n",
              "1     loclexuan26392            BTC\n",
              "2           locle.ds            BTC\n",
              "3     maianhdang.ftu            BTC\n",
              "4  huyenhoang.design            BTC"
            ]
          },
          "metadata": {
            "tags": []
          },
          "execution_count": 22
        }
      ]
    },
    {
      "cell_type": "markdown",
      "metadata": {
        "id": "RvOX2efdx6GG"
      },
      "source": [
        "**STEP 1: NHU CẦU & MỤC ĐÍCH**"
      ]
    },
    {
      "cell_type": "markdown",
      "metadata": {
        "id": "KDljqkO5x7SR"
      },
      "source": [
        "> Đặt mình vào vị trí người chủ, bạn quan tâm đến điều gì?\n",
        "\n"
      ]
    },
    {
      "cell_type": "markdown",
      "metadata": {
        "id": "dg_B92F6yELZ"
      },
      "source": [
        "Quan trọng nhất của mọi Data Solution, là bắt đầu từ nhu cầu, mục đích và câu hỏi lớn của Clients (người chủ).\n",
        "\n",
        "Chính từ những câu hỏi lớn này, ta có thể khoanh vùng thông tin nào quan trọng, ta muốn đạt được điều gì?"
      ]
    },
    {
      "cell_type": "markdown",
      "metadata": {
        "id": "klLrtH55yMuL"
      },
      "source": [
        "**TODO#1: Requirements**"
      ]
    },
    {
      "cell_type": "code",
      "metadata": {
        "id": "UP8O61x6WC9T"
      },
      "source": [
        "''' \n",
        "REQUIREMENTS\n",
        "\n",
        "- Mục đích của lớp học Atom là gì?\n",
        "> Phổ cập kiến thức về khoa họcc dữ liệu đến cộng đồng, giúp các bạn học viên tham gia hiểu và có thể sử dụng được ngôn ngữ lập trình Python và các công cụ hỗ trợ cho quá trình phân tích dữ liệu từ đó biết cách ứng dụng những kiến thức đã học vào việc đưa ra các giải pháp về dữ liệu, hỗ trợ xử lý các vấn đề/ bài toán của công ty/doanh nghiệp.\n",
        "\n",
        "- BTC sẽ quan tâm đến những chủ đề/quy trình gì để đạt được Mục Đích trong (1)?\n",
        "> Thiết kế bài giảng sinh động, dễ hiểu nhằm truyền tải kiến thức nền tảng một cách dễ tiếp thu đến với các học viên.\n",
        "> Đưa ra những ví dụ thực tế để cùng trao đổi, thảo luận để đào sâu hơn vào từng vấn đề từ đó mỗi học viên có thể rút ra được những bài học cho riêng mình.\n",
        "> Bài tập thực hành hỗ trợ học viên trong việc tự khám phá và học hỏi thêm, bên cạnh những gì đã trao đổi trực tiếp trong lớp học.\n",
        "> Cung cấp nguồn tài liệu học tập phù hợp để học viên có thể tra cứu thêm.\n",
        "> Mức độ lan tỏa về dự án trong cộng đồng: Dự án nhận được sự hỗ trợ từ cá nhân/đơn vị/tổ chức/doanh nghiệp. Học viên chia sẻ những điều học được từ lớp học đến nhiều người hơn. \n",
        "\n",
        "- Làm sao để đo lường các điểm trong (2)?\n",
        "> Khảo sát về mức độ hiểu và tiếp thu kiến thức của học viên sau sau mỗi buổi học.\n",
        "> Đánh giá về mức độ sôi nổi của lớp học khi thảo luận trên channel chung.\n",
        "(? % học viên tham gia thảo luận/đóng góp ý kiến, có bao nhiêu chủ đề được nêu lên? bao nhiêu chủ đề được mổ xẻ và giải quyết cùng nhau?...)\n",
        "> Mức độ hoàn thành của mỗi học viên đối với bài tập, số lượng học viên hoàn thành bài tập theo yêu cầu?...\n",
        "> Bao nhiêu lượt tương tác/bài viết nhắc đến dự án được chia sẻ? Bao nhiêu người biết thêm về dự án sau khi lớp học kết thúc?\n",
        "\n",
        "- Dựa vào các data đã có như liệt kê trong STEP 0: Chỉ dùng những data sẵn có, ta có thể đo lường và thiết kế những metrics nào bạn đã liệt kê trong (3)?\n",
        "> Mức độ hiểu: Đánh giá trên thang điểm 5.\n",
        "> Mức độ hài lòng về sự hỗ trợ của Coach/menter: Đánh giá trên thang điểm 5.\n",
        "> Số lượng học viên tham gia các buổi học.\n",
        "> Số lượng học viên hoàn thành bài tập.\n",
        "> Số lượng bài tập hoàn thành/học viên.\n",
        "> Điểm đánh giá chất lượng học viên.\n",
        "> Số lượng chủ đề được nêu ra cùng tham gia thảo luận.\n",
        "> TAT: số lượng bài viết chia sẻ/nhắc đến dự án hoặc lượt theo dõi/tương tác/like/share trên fanpage của dự án.\n",
        "\n",
        "- Tham khảo Slack API và hình dung về các thông tin DataCracy có khả năng thu thập, bạn sẽ đề xuất DataCracy thu thập thêm những thông tin gì?\n",
        "> Số lượt tương tác của các học viên.\n",
        "> Số lượng học viên tham gia trao đổi trong mỗi channel.\n",
        "> Số lượng bài assignment đã submit.\n",
        "> Thời gian nộp bài của các học viên.\n"
      ],
      "execution_count": null,
      "outputs": []
    },
    {
      "cell_type": "markdown",
      "metadata": {
        "id": "QYoBysAB0vFT"
      },
      "source": [
        "**STEP 2: TỔ CHỨC THÔNG TIN**"
      ]
    },
    {
      "cell_type": "code",
      "metadata": {
        "colab": {
          "base_uri": "https://localhost:8080/"
        },
        "id": "LB3o_eCE05L_",
        "outputId": "cad33ae2-2983-4d7b-e770-bffa227d2f31"
      },
      "source": [
        "user_df.info ()"
      ],
      "execution_count": 135,
      "outputs": [
        {
          "output_type": "stream",
          "text": [
            "<class 'pandas.core.frame.DataFrame'>\n",
            "RangeIndex: 75 entries, 0 to 74\n",
            "Data columns (total 6 columns):\n",
            " #   Column        Non-Null Count  Dtype \n",
            "---  ------        --------------  ----- \n",
            " 0   user_id       75 non-null     object\n",
            " 1   name          75 non-null     object\n",
            " 2   display_name  50 non-null     object\n",
            " 3   real_name     75 non-null     object\n",
            " 4   title         6 non-null      object\n",
            " 5   is_bot        75 non-null     bool  \n",
            "dtypes: bool(1), object(5)\n",
            "memory usage: 3.1+ KB\n"
          ],
          "name": "stdout"
        }
      ]
    },
    {
      "cell_type": "code",
      "metadata": {
        "colab": {
          "base_uri": "https://localhost:8080/"
        },
        "id": "1XsPcUmSXMa5",
        "outputId": "ba7d1718-9d5f-4ace-8f19-364746d283f1"
      },
      "source": [
        "channel_df.info ()"
      ],
      "execution_count": 132,
      "outputs": [
        {
          "output_type": "stream",
          "text": [
            "<class 'pandas.core.frame.DataFrame'>\n",
            "RangeIndex: 19 entries, 0 to 18\n",
            "Data columns (total 8 columns):\n",
            " #   Column        Non-Null Count  Dtype         \n",
            "---  ------        --------------  -----         \n",
            " 0   channel_id    19 non-null     object        \n",
            " 1   channel_name  19 non-null     object        \n",
            " 2   is_channel    19 non-null     bool          \n",
            " 3   creator       19 non-null     object        \n",
            " 4   created_at    19 non-null     datetime64[ns]\n",
            " 5   topics        6 non-null      object        \n",
            " 6   purpose       13 non-null     object        \n",
            " 7   num_members   19 non-null     int64         \n",
            "dtypes: bool(1), datetime64[ns](1), int64(1), object(5)\n",
            "memory usage: 1.2+ KB\n"
          ],
          "name": "stdout"
        }
      ]
    },
    {
      "cell_type": "code",
      "metadata": {
        "colab": {
          "base_uri": "https://localhost:8080/"
        },
        "id": "v7-Sg8VxapeB",
        "outputId": "f8608753-28ec-4932-d8ed-93c4308e6ae4"
      },
      "source": [
        "msg_df.info ()"
      ],
      "execution_count": 133,
      "outputs": [
        {
          "output_type": "stream",
          "text": [
            "<class 'pandas.core.frame.DataFrame'>\n",
            "RangeIndex: 283 entries, 0 to 282\n",
            "Data columns (total 8 columns):\n",
            " #   Column            Non-Null Count  Dtype         \n",
            "---  ------            --------------  -----         \n",
            " 0   channel_id        283 non-null    object        \n",
            " 1   msg_id            283 non-null    object        \n",
            " 2   msg_ts            283 non-null    datetime64[ns]\n",
            " 3   user_id           283 non-null    object        \n",
            " 4   latest_reply      283 non-null    datetime64[ns]\n",
            " 5   reply_user_count  283 non-null    int64         \n",
            " 6   reply_users       283 non-null    object        \n",
            " 7   github_link       112 non-null    object        \n",
            "dtypes: datetime64[ns](2), int64(1), object(5)\n",
            "memory usage: 17.8+ KB\n"
          ],
          "name": "stdout"
        }
      ]
    },
    {
      "cell_type": "code",
      "metadata": {
        "colab": {
          "base_uri": "https://localhost:8080/"
        },
        "id": "I_171jvva2aT",
        "outputId": "9f7e6b50-e328-4abd-a56f-fd8c9ddb92ca"
      },
      "source": [
        "dtc_groups.info ()"
      ],
      "execution_count": 134,
      "outputs": [
        {
          "output_type": "stream",
          "text": [
            "<class 'pandas.core.frame.DataFrame'>\n",
            "RangeIndex: 65 entries, 0 to 64\n",
            "Data columns (total 2 columns):\n",
            " #   Column          Non-Null Count  Dtype \n",
            "---  ------          --------------  ----- \n",
            " 0   name            65 non-null     object\n",
            " 1   DataCracy_role  59 non-null     object\n",
            "dtypes: object(2)\n",
            "memory usage: 1.1+ KB\n"
          ],
          "name": "stdout"
        }
      ]
    },
    {
      "cell_type": "markdown",
      "metadata": {
        "id": "K-owiFcs09Xr"
      },
      "source": [
        "**TODO#2: List Down**"
      ]
    },
    {
      "cell_type": "code",
      "metadata": {
        "colab": {
          "base_uri": "https://localhost:8080/",
          "height": 173
        },
        "id": "WB_2XTuCEnM4",
        "outputId": "4c91a5a7-6cf9-44ae-8e13-29ac2326204e"
      },
      "source": [
        "user_df.describe(include = 'all')"
      ],
      "execution_count": 54,
      "outputs": [
        {
          "output_type": "execute_result",
          "data": {
            "text/html": [
              "<div>\n",
              "<style scoped>\n",
              "    .dataframe tbody tr th:only-of-type {\n",
              "        vertical-align: middle;\n",
              "    }\n",
              "\n",
              "    .dataframe tbody tr th {\n",
              "        vertical-align: top;\n",
              "    }\n",
              "\n",
              "    .dataframe thead th {\n",
              "        text-align: right;\n",
              "    }\n",
              "</style>\n",
              "<table border=\"1\" class=\"dataframe\">\n",
              "  <thead>\n",
              "    <tr style=\"text-align: right;\">\n",
              "      <th></th>\n",
              "      <th>user_id</th>\n",
              "      <th>name</th>\n",
              "      <th>display_name</th>\n",
              "      <th>real_name</th>\n",
              "      <th>title</th>\n",
              "      <th>is_bot</th>\n",
              "    </tr>\n",
              "  </thead>\n",
              "  <tbody>\n",
              "    <tr>\n",
              "      <th>count</th>\n",
              "      <td>75</td>\n",
              "      <td>75</td>\n",
              "      <td>50</td>\n",
              "      <td>75</td>\n",
              "      <td>6</td>\n",
              "      <td>75</td>\n",
              "    </tr>\n",
              "    <tr>\n",
              "      <th>unique</th>\n",
              "      <td>75</td>\n",
              "      <td>75</td>\n",
              "      <td>49</td>\n",
              "      <td>73</td>\n",
              "      <td>5</td>\n",
              "      <td>2</td>\n",
              "    </tr>\n",
              "    <tr>\n",
              "      <th>top</th>\n",
              "      <td>U01UJ9PA0MB</td>\n",
              "      <td>78</td>\n",
              "      <td>Loc Le Xuan</td>\n",
              "      <td>Loc Le Xuan</td>\n",
              "      <td>Learner</td>\n",
              "      <td>False</td>\n",
              "    </tr>\n",
              "    <tr>\n",
              "      <th>freq</th>\n",
              "      <td>1</td>\n",
              "      <td>1</td>\n",
              "      <td>2</td>\n",
              "      <td>2</td>\n",
              "      <td>2</td>\n",
              "      <td>65</td>\n",
              "    </tr>\n",
              "  </tbody>\n",
              "</table>\n",
              "</div>"
            ],
            "text/plain": [
              "            user_id name display_name    real_name    title is_bot\n",
              "count            75   75           50           75        6     75\n",
              "unique           75   75           49           73        5      2\n",
              "top     U01UJ9PA0MB   78  Loc Le Xuan  Loc Le Xuan  Learner  False\n",
              "freq              1    1            2            2        2     65"
            ]
          },
          "metadata": {
            "tags": []
          },
          "execution_count": 54
        }
      ]
    },
    {
      "cell_type": "code",
      "metadata": {
        "id": "9R08g5osE3nx"
      },
      "source": [
        " Dtype obj: object -> string, bool, int, float\n",
        "# NULL - Nếu có null count < số entries\n",
        "\n",
        "'''\n",
        "user_df\n",
        "-\n",
        "user_id string \n",
        "name string\n",
        "display_name NULL string\n",
        "real_name string\n",
        "title NULL string\n",
        "is_bot bool\n",
        "\n",
        "-\n",
        "channel_id string \n",
        "channel_name string\n",
        "is_channel bool\n",
        "creator string \n",
        "create_at datetime\n",
        "topics NULL string\n",
        "purpose NULL string\n",
        "num_members int\n",
        "\n",
        "msg_df\n",
        "-\n",
        "channel_id string \n",
        "msg_id string \n",
        "msg_ts string\n",
        "user_id string \n",
        "latest_reply datetime\n",
        "reply_user_count int\n",
        "reply_users string\n",
        "github_link NULL string\n",
        "\n",
        "dtc_groups\n",
        "-\n",
        "name string\n",
        "DataCracy_role NULL string\n",
        "\n",
        "'''"
      ],
      "execution_count": null,
      "outputs": []
    },
    {
      "cell_type": "markdown",
      "metadata": {
        "id": "oHNLsOhaFMVi"
      },
      "source": [
        "**STEP 3: NGUYÊN TẮC CẦN ÁP DỤNG**"
      ]
    },
    {
      "cell_type": "markdown",
      "metadata": {
        "id": "pii97HXUFSrw"
      },
      "source": [
        "**TODO#3: Rules & Logics**"
      ]
    },
    {
      "cell_type": "code",
      "metadata": {
        "id": "GOW7SGtXFaza"
      },
      "source": [
        "''' \n",
        "RULES khi giao tiếp trên Slack\n",
        "---\n",
        "1.Quy tắc tạo tài khoản cho user:\n",
        "    - Ghi rõ các thông tin họ & tên\n",
        "    - Ghi rõ title/vai trò và nhóm của mình\n",
        "    Cú pháp: username_tilte_group . VD: phanlinh_learner_r3\n",
        "    \n",
        "2. Quy tắc tạo channel:\n",
        "    - Ghi rõ tên, mục đích, topic thảo luận của từng channel\n",
        "    Cú pháp: #Atom_assignment_04, #R3_discussion\n",
        "\n",
        "3. Quy tắc gửi tin nhắn:\n",
        "    - Nêu rõ mong muốn/câu hỏi/ý kiến khi gửi tin nhắn.\n",
        "    - Có thể thêm #hashtag vào đầu tin để xác định chủ đề.\n",
        "    VD: #assignment04 #issue\n",
        "    \n",
        "4. Quy tắc nộp bài:\n",
        "    - Gửi bài về đúng channel.  \n",
        "    - Chèn hashtag tương ứng với mỗi link bài tập đính kèm.\n",
        "    - Note lưu ý riêng của bản thân (nếu có)       \n",
        "\n",
        "5. Quy tắc review bài tập\n",
        "    - Gắn label trước khi review.\n",
        "    - Review trực tiếp bằng cách trả lời tin nhắn của người gửi.\n",
        "    - Đổi label sau khi đã review xong.\n",
        "''' "
      ],
      "execution_count": null,
      "outputs": []
    },
    {
      "cell_type": "code",
      "metadata": {
        "id": "tad6W2p1Hj4K"
      },
      "source": [
        "''' \n",
        "LOGICS\n",
        "---\n",
        "1. #user:\n",
        "- hai users trùng tên -> phân biệt bằng title/group hoặc user_id nên cần cập nhật thông tin title hoặc group.\n",
        "2. #channel:\n",
        "- topic phải được gửi đúng channel, phân biệt bằng hashtag #assignment\n",
        "- ngày gửi assignment < ngày tạo channel \n",
        "3. #msg:\n",
        "- lasted reply < msg_ts\n",
        "- khi gửi tin nhắn vào channel chung, phải có hashtag ghi rõ topic, thời gian nộp bài.\n",
        "- \n",
        "'''"
      ],
      "execution_count": null,
      "outputs": []
    },
    {
      "cell_type": "markdown",
      "metadata": {
        "id": "JWS3Ta-IKSn1"
      },
      "source": [
        "**STEP 4: TỔ CHỨC BẢNG - PRIMARY KEYS**"
      ]
    },
    {
      "cell_type": "markdown",
      "metadata": {
        "id": "8eV1VB73Khnv"
      },
      "source": [
        "**TODO#4: Tables & PK**"
      ]
    },
    {
      "cell_type": "code",
      "metadata": {
        "id": "Pges0qQdfUQh"
      },
      "source": [
        "#Nhìn lại diagram của TODO#2 trong Quick DBD Diagram: Có bảng nào bạn nghĩ nên gộp lại, hay tách ra ?\n",
        "\n",
        "#Tìm Primary Key (PK): Unique cho từng dòng và Không NULL"
      ],
      "execution_count": null,
      "outputs": []
    },
    {
      "cell_type": "code",
      "metadata": {
        "colab": {
          "base_uri": "https://localhost:8080/"
        },
        "id": "R1KeZ_VgKXfT",
        "outputId": "3d02b9b1-80c6-4e4d-d920-e98db1bcaf37"
      },
      "source": [
        "## Hints: nunique() để check số giá trị unique của từng trường\n",
        "user_df.nunique()"
      ],
      "execution_count": 57,
      "outputs": [
        {
          "output_type": "execute_result",
          "data": {
            "text/plain": [
              "user_id         75\n",
              "name            75\n",
              "display_name    49\n",
              "real_name       73\n",
              "title            5\n",
              "is_bot           2\n",
              "dtype: int64"
            ]
          },
          "metadata": {
            "tags": []
          },
          "execution_count": 57
        }
      ]
    },
    {
      "cell_type": "code",
      "metadata": {
        "colab": {
          "base_uri": "https://localhost:8080/"
        },
        "id": "g_Pgt90eefVe",
        "outputId": "d87f57fa-6304-44eb-f283-3fa03eac24b1"
      },
      "source": [
        "channel_df.nunique()"
      ],
      "execution_count": 36,
      "outputs": [
        {
          "output_type": "execute_result",
          "data": {
            "text/plain": [
              "channel_id      19\n",
              "channel_name    19\n",
              "is_channel       1\n",
              "creator          2\n",
              "created_at      19\n",
              "topics           6\n",
              "purpose         12\n",
              "num_members     15\n",
              "dtype: int64"
            ]
          },
          "metadata": {
            "tags": []
          },
          "execution_count": 36
        }
      ]
    },
    {
      "cell_type": "code",
      "metadata": {
        "colab": {
          "base_uri": "https://localhost:8080/",
          "height": 445
        },
        "id": "NLMt2V6vIT14",
        "outputId": "1a5e8e6e-1582-4ac9-f28d-f5be8faf1f24"
      },
      "source": [
        "msg_df.head ()"
      ],
      "execution_count": 137,
      "outputs": [
        {
          "output_type": "execute_result",
          "data": {
            "text/html": [
              "<div>\n",
              "<style scoped>\n",
              "    .dataframe tbody tr th:only-of-type {\n",
              "        vertical-align: middle;\n",
              "    }\n",
              "\n",
              "    .dataframe tbody tr th {\n",
              "        vertical-align: top;\n",
              "    }\n",
              "\n",
              "    .dataframe thead th {\n",
              "        text-align: right;\n",
              "    }\n",
              "</style>\n",
              "<table border=\"1\" class=\"dataframe\">\n",
              "  <thead>\n",
              "    <tr style=\"text-align: right;\">\n",
              "      <th></th>\n",
              "      <th>channel_id</th>\n",
              "      <th>msg_id</th>\n",
              "      <th>msg_ts</th>\n",
              "      <th>user_id</th>\n",
              "      <th>latest_reply</th>\n",
              "      <th>reply_user_count</th>\n",
              "      <th>reply_users</th>\n",
              "      <th>github_link</th>\n",
              "    </tr>\n",
              "  </thead>\n",
              "  <tbody>\n",
              "    <tr>\n",
              "      <th>0</th>\n",
              "      <td>C01B4PVGLVB</td>\n",
              "      <td>0b9a47d9-900e-4dcf-af8f-8897e6fe6fdd</td>\n",
              "      <td>2021-05-28 15:35:27.004100</td>\n",
              "      <td>U01BE2PR6LU</td>\n",
              "      <td>1970-01-01 00:00:00.000000</td>\n",
              "      <td>0</td>\n",
              "      <td>0</td>\n",
              "      <td>NaN</td>\n",
              "    </tr>\n",
              "    <tr>\n",
              "      <th>1</th>\n",
              "      <td>C01B4PVGLVB</td>\n",
              "      <td>DEBF1A3C-17AA-4D53-AC27-1FE0884243DB</td>\n",
              "      <td>2021-05-28 13:50:27.000800</td>\n",
              "      <td>U01JQ5U1RPV</td>\n",
              "      <td>2021-05-28 13:51:51.001200</td>\n",
              "      <td>1</td>\n",
              "      <td>[U01UQGZHSTZ]</td>\n",
              "      <td>NaN</td>\n",
              "    </tr>\n",
              "    <tr>\n",
              "      <th>2</th>\n",
              "      <td>C01B4PVGLVB</td>\n",
              "      <td>48ba219d-fda8-40f2-be65-00735c058071</td>\n",
              "      <td>2021-05-25 04:59:27.000600</td>\n",
              "      <td>U01BE2PR6LU</td>\n",
              "      <td>2021-05-25 06:04:44.006500</td>\n",
              "      <td>4</td>\n",
              "      <td>[U01UJ9PRT5K, U01UTGRMGEQ, U01VB632FPS, U01UMB...</td>\n",
              "      <td>NaN</td>\n",
              "    </tr>\n",
              "    <tr>\n",
              "      <th>3</th>\n",
              "      <td>C01B4PVGLVB</td>\n",
              "      <td>89919b55-bfe9-4c15-bf45-3021048c7c28</td>\n",
              "      <td>2021-05-24 11:49:08.061100</td>\n",
              "      <td>U01BE2PR6LU</td>\n",
              "      <td>1970-01-01 00:00:00.000000</td>\n",
              "      <td>0</td>\n",
              "      <td>0</td>\n",
              "      <td>NaN</td>\n",
              "    </tr>\n",
              "    <tr>\n",
              "      <th>4</th>\n",
              "      <td>C01B4PVGLVB</td>\n",
              "      <td>18467584-5810-4bb9-80fe-4b92af9b28d0</td>\n",
              "      <td>2021-05-23 16:26:04.057000</td>\n",
              "      <td>U01UTGT8CVA</td>\n",
              "      <td>2021-05-24 08:36:52.058100</td>\n",
              "      <td>2</td>\n",
              "      <td>[U01VB632FPS, U01UTGT8CVA]</td>\n",
              "      <td>NaN</td>\n",
              "    </tr>\n",
              "  </tbody>\n",
              "</table>\n",
              "</div>"
            ],
            "text/plain": [
              "    channel_id  ... github_link\n",
              "0  C01B4PVGLVB  ...         NaN\n",
              "1  C01B4PVGLVB  ...         NaN\n",
              "2  C01B4PVGLVB  ...         NaN\n",
              "3  C01B4PVGLVB  ...         NaN\n",
              "4  C01B4PVGLVB  ...         NaN\n",
              "\n",
              "[5 rows x 8 columns]"
            ]
          },
          "metadata": {
            "tags": []
          },
          "execution_count": 137
        }
      ]
    },
    {
      "cell_type": "code",
      "metadata": {
        "colab": {
          "base_uri": "https://localhost:8080/"
        },
        "id": "8Y-Xh1TcemT8",
        "outputId": "d85634cc-f932-404d-8c99-9c9e8dfee825"
      },
      "source": [
        "dtc_groups.nunique()"
      ],
      "execution_count": 37,
      "outputs": [
        {
          "output_type": "execute_result",
          "data": {
            "text/plain": [
              "name              65\n",
              "DataCracy_role    10\n",
              "dtype: int64"
            ]
          },
          "metadata": {
            "tags": []
          },
          "execution_count": 37
        }
      ]
    },
    {
      "cell_type": "code",
      "metadata": {
        "id": "fI-s7bcLLAty"
      },
      "source": [
        "## Copy lại phần text của TODO#2\n",
        "## Đặt PK bên cạnh col bạn chọn làm PK\n",
        "''' \n",
        "# Dtype obj: object -> string, bool, int, float\n",
        "# NULL - Nếu có null count < số entries\n",
        "\n",
        "user_df\n",
        "-\n",
        "user_id string \n",
        "name string\n",
        "display_name NULL string\n",
        "real_name string\n",
        "title NULL string\n",
        "is_bot bool\n",
        "\n",
        "-\n",
        "channel_id string \n",
        "channel_name string\n",
        "is_channel bool\n",
        "creator string \n",
        "create_at datetime\n",
        "topics NULL string\n",
        "purpose NULL string\n",
        "num_members int\n",
        "\n",
        "msg_df\n",
        "-\n",
        "channel_id string \n",
        "msg_id string \n",
        "msg_ts string\n",
        "user_id string \n",
        "latest_reply datetime\n",
        "reply_user_count int\n",
        "reply_users string\n",
        "github_link NULL string\n",
        "\n",
        "dtc_groups\n",
        "-\n",
        "name string\n",
        "DataCracy_role NULL string\n",
        "\n",
        "'''"
      ],
      "execution_count": null,
      "outputs": []
    },
    {
      "cell_type": "markdown",
      "metadata": {
        "id": "7DNZHG1TLfp-"
      },
      "source": [
        "**STEP 5: MỐI QUAN HỆ GIỮA CÁC BẢNG**"
      ]
    },
    {
      "cell_type": "markdown",
      "metadata": {
        "id": "J_JdS76YLjVL"
      },
      "source": [
        "**TODO#5: FK & Mapping**"
      ]
    },
    {
      "cell_type": "markdown",
      "metadata": {
        "id": "HaYvfewcL_4c"
      },
      "source": [
        "**STEP 6: DIAGRAM & TEST**"
      ]
    },
    {
      "cell_type": "code",
      "metadata": {
        "id": "qT38pjDkMRPI"
      },
      "source": [
        "## Đoạn code dưới join 2 bảng user_df vằ dtc_groups bằng key name => Tạo thành bảng members_df\n",
        "SQL_dim_members = '''\n",
        "-- Để comment trong SQL dùng -- tương đường với ## trong Python\n",
        "CREATE TABLE members_df AS\n",
        "SELECT \n",
        "  t1.*,\n",
        "  t2.DataCracy_role\n",
        "FROM user_df AS t1\n",
        "JOIN dtc_groups AS t2\n",
        "ON t1.name = t2.name\n",
        "'''"
      ],
      "execution_count": 49,
      "outputs": []
    },
    {
      "cell_type": "code",
      "metadata": {
        "colab": {
          "base_uri": "https://localhost:8080/",
          "height": 359
        },
        "id": "tOmGDHflMVmS",
        "outputId": "a758ac3e-d297-44ec-d13b-13e651ea2d8b"
      },
      "source": [
        "con = duckdb.connect(database=':memory:', read_only=False) # -> Tạo DB connection\n",
        "# create a table\n",
        "con.execute(SQL_dim_members) # -> Chạy đoạn lệch SQL\n",
        "con.execute(\"SELECT * FROM members_df LIMIT 10\").fetch_df() # -> In 10 dòng đầu tiên của bảng members_df ra Dataframe"
      ],
      "execution_count": 50,
      "outputs": [
        {
          "output_type": "execute_result",
          "data": {
            "text/html": [
              "<div>\n",
              "<style scoped>\n",
              "    .dataframe tbody tr th:only-of-type {\n",
              "        vertical-align: middle;\n",
              "    }\n",
              "\n",
              "    .dataframe tbody tr th {\n",
              "        vertical-align: top;\n",
              "    }\n",
              "\n",
              "    .dataframe thead th {\n",
              "        text-align: right;\n",
              "    }\n",
              "</style>\n",
              "<table border=\"1\" class=\"dataframe\">\n",
              "  <thead>\n",
              "    <tr style=\"text-align: right;\">\n",
              "      <th></th>\n",
              "      <th>user_id</th>\n",
              "      <th>name</th>\n",
              "      <th>display_name</th>\n",
              "      <th>real_name</th>\n",
              "      <th>title</th>\n",
              "      <th>is_bot</th>\n",
              "      <th>DataCracy_role</th>\n",
              "    </tr>\n",
              "  </thead>\n",
              "  <tbody>\n",
              "    <tr>\n",
              "      <th>0</th>\n",
              "      <td>USLACKBOT</td>\n",
              "      <td>slackbot</td>\n",
              "      <td>Slackbot</td>\n",
              "      <td>Slackbot</td>\n",
              "      <td>NaN</td>\n",
              "      <td>False</td>\n",
              "      <td>BTC</td>\n",
              "    </tr>\n",
              "    <tr>\n",
              "      <th>1</th>\n",
              "      <td>U01AT4T75JB</td>\n",
              "      <td>loclexuan26392</td>\n",
              "      <td>Loc Le Xuan</td>\n",
              "      <td>Loc Le Xuan</td>\n",
              "      <td>NaN</td>\n",
              "      <td>False</td>\n",
              "      <td>BTC</td>\n",
              "    </tr>\n",
              "    <tr>\n",
              "      <th>2</th>\n",
              "      <td>U01AVDY7JET</td>\n",
              "      <td>locle.ds</td>\n",
              "      <td>Loc Le Xuan</td>\n",
              "      <td>Loc Le Xuan</td>\n",
              "      <td>NaN</td>\n",
              "      <td>False</td>\n",
              "      <td>BTC</td>\n",
              "    </tr>\n",
              "    <tr>\n",
              "      <th>3</th>\n",
              "      <td>U01BE2PR6LU</td>\n",
              "      <td>maianhdang.ftu</td>\n",
              "      <td>MAD</td>\n",
              "      <td>Dặng Huỳnh Mai Anh</td>\n",
              "      <td>Technical Contents</td>\n",
              "      <td>False</td>\n",
              "      <td>BTC</td>\n",
              "    </tr>\n",
              "    <tr>\n",
              "      <th>4</th>\n",
              "      <td>U01C48T7S1J</td>\n",
              "      <td>huyenhoang.design</td>\n",
              "      <td>Thanh Huyen Hoang</td>\n",
              "      <td>Thanh Huyen Hoang</td>\n",
              "      <td>NaN</td>\n",
              "      <td>False</td>\n",
              "      <td>BTC</td>\n",
              "    </tr>\n",
              "    <tr>\n",
              "      <th>5</th>\n",
              "      <td>U01CMTYB7EU</td>\n",
              "      <td>dr.tringuyenzmc</td>\n",
              "      <td>NaN</td>\n",
              "      <td>Dr Tringuyenzmc</td>\n",
              "      <td>NaN</td>\n",
              "      <td>False</td>\n",
              "      <td>BTC</td>\n",
              "    </tr>\n",
              "    <tr>\n",
              "      <th>6</th>\n",
              "      <td>U01GQR2FE93</td>\n",
              "      <td>khanguyenwk</td>\n",
              "      <td>NaN</td>\n",
              "      <td>Kha Nguyen</td>\n",
              "      <td>NaN</td>\n",
              "      <td>False</td>\n",
              "      <td>Volunteer</td>\n",
              "    </tr>\n",
              "    <tr>\n",
              "      <th>7</th>\n",
              "      <td>U01HARCHNKU</td>\n",
              "      <td>linhphan</td>\n",
              "      <td>NaN</td>\n",
              "      <td>Phan Linh</td>\n",
              "      <td>NaN</td>\n",
              "      <td>False</td>\n",
              "      <td>BTC</td>\n",
              "    </tr>\n",
              "    <tr>\n",
              "      <th>8</th>\n",
              "      <td>U01JQ5TUP0B</td>\n",
              "      <td>tt.thuchuyen</td>\n",
              "      <td>NaN</td>\n",
              "      <td>Tt Thuchuyen</td>\n",
              "      <td>NaN</td>\n",
              "      <td>False</td>\n",
              "      <td>BTC</td>\n",
              "    </tr>\n",
              "    <tr>\n",
              "      <th>9</th>\n",
              "      <td>U01JQ5U1RPV</td>\n",
              "      <td>thuongthuong.dv</td>\n",
              "      <td>NaN</td>\n",
              "      <td>Thuong Do</td>\n",
              "      <td>NaN</td>\n",
              "      <td>False</td>\n",
              "      <td>BTC</td>\n",
              "    </tr>\n",
              "  </tbody>\n",
              "</table>\n",
              "</div>"
            ],
            "text/plain": [
              "       user_id               name  ... is_bot DataCracy_role\n",
              "0    USLACKBOT           slackbot  ...  False            BTC\n",
              "1  U01AT4T75JB     loclexuan26392  ...  False            BTC\n",
              "2  U01AVDY7JET           locle.ds  ...  False            BTC\n",
              "3  U01BE2PR6LU     maianhdang.ftu  ...  False            BTC\n",
              "4  U01C48T7S1J  huyenhoang.design  ...  False            BTC\n",
              "5  U01CMTYB7EU    dr.tringuyenzmc  ...  False            BTC\n",
              "6  U01GQR2FE93        khanguyenwk  ...  False      Volunteer\n",
              "7  U01HARCHNKU           linhphan  ...  False            BTC\n",
              "8  U01JQ5TUP0B       tt.thuchuyen  ...  False            BTC\n",
              "9  U01JQ5U1RPV    thuongthuong.dv  ...  False            BTC\n",
              "\n",
              "[10 rows x 7 columns]"
            ]
          },
          "metadata": {
            "tags": []
          },
          "execution_count": 50
        }
      ]
    },
    {
      "cell_type": "code",
      "metadata": {
        "colab": {
          "base_uri": "https://localhost:8080/",
          "height": 340
        },
        "id": "w-ibdrZOMZXS",
        "outputId": "36380d7e-ba8d-466f-9b87-96ff6b22d0f9"
      },
      "source": [
        "con.execute(\"SELECT * FROM channel_df LIMIT 5\").fetch_df() # -> In 5 dòng đầu tiên của bảng channel_df ra Dataframe"
      ],
      "execution_count": 51,
      "outputs": [
        {
          "output_type": "execute_result",
          "data": {
            "text/html": [
              "<div>\n",
              "<style scoped>\n",
              "    .dataframe tbody tr th:only-of-type {\n",
              "        vertical-align: middle;\n",
              "    }\n",
              "\n",
              "    .dataframe tbody tr th {\n",
              "        vertical-align: top;\n",
              "    }\n",
              "\n",
              "    .dataframe thead th {\n",
              "        text-align: right;\n",
              "    }\n",
              "</style>\n",
              "<table border=\"1\" class=\"dataframe\">\n",
              "  <thead>\n",
              "    <tr style=\"text-align: right;\">\n",
              "      <th></th>\n",
              "      <th>channel_id</th>\n",
              "      <th>channel_name</th>\n",
              "      <th>is_channel</th>\n",
              "      <th>creator</th>\n",
              "      <th>created_at</th>\n",
              "      <th>topics</th>\n",
              "      <th>purpose</th>\n",
              "      <th>num_members</th>\n",
              "    </tr>\n",
              "  </thead>\n",
              "  <tbody>\n",
              "    <tr>\n",
              "      <th>0</th>\n",
              "      <td>C01B4PVGLVB</td>\n",
              "      <td>general</td>\n",
              "      <td>True</td>\n",
              "      <td>U01BE2PR6LU</td>\n",
              "      <td>2020-09-23 10:25:03</td>\n",
              "      <td>NaN</td>\n",
              "      <td>This is the one channel that will always inclu...</td>\n",
              "      <td>65</td>\n",
              "    </tr>\n",
              "    <tr>\n",
              "      <th>1</th>\n",
              "      <td>C01BYH7JHB5</td>\n",
              "      <td>contents</td>\n",
              "      <td>True</td>\n",
              "      <td>U01BE2PR6LU</td>\n",
              "      <td>2020-10-05 07:28:09</td>\n",
              "      <td>NaN</td>\n",
              "      <td>NaN</td>\n",
              "      <td>12</td>\n",
              "    </tr>\n",
              "    <tr>\n",
              "      <th>2</th>\n",
              "      <td>C01CAMNCJJV</td>\n",
              "      <td>branding-design</td>\n",
              "      <td>True</td>\n",
              "      <td>U01AVDY7JET</td>\n",
              "      <td>2020-10-05 03:16:30</td>\n",
              "      <td>NaN</td>\n",
              "      <td>NaN</td>\n",
              "      <td>9</td>\n",
              "    </tr>\n",
              "    <tr>\n",
              "      <th>3</th>\n",
              "      <td>C01U6P7LZ8F</td>\n",
              "      <td>atom-assignment1</td>\n",
              "      <td>True</td>\n",
              "      <td>U01BE2PR6LU</td>\n",
              "      <td>2021-04-17 07:00:04</td>\n",
              "      <td>Assigment#1 - Python Basics &amp;amp; Spreadsheet ...</td>\n",
              "      <td>Where learners submit assignments and give rev...</td>\n",
              "      <td>44</td>\n",
              "    </tr>\n",
              "    <tr>\n",
              "      <th>4</th>\n",
              "      <td>C01UL6K1C7L</td>\n",
              "      <td>atom-week1</td>\n",
              "      <td>True</td>\n",
              "      <td>U01BE2PR6LU</td>\n",
              "      <td>2021-04-16 17:44:32</td>\n",
              "      <td>TOPIC: Data Strategy. Metrics Design. Spreadsh...</td>\n",
              "      <td>TOPIC: Data Strategy. Metrics Design. Spreadsh...</td>\n",
              "      <td>43</td>\n",
              "    </tr>\n",
              "  </tbody>\n",
              "</table>\n",
              "</div>"
            ],
            "text/plain": [
              "    channel_id  ... num_members\n",
              "0  C01B4PVGLVB  ...          65\n",
              "1  C01BYH7JHB5  ...          12\n",
              "2  C01CAMNCJJV  ...           9\n",
              "3  C01U6P7LZ8F  ...          44\n",
              "4  C01UL6K1C7L  ...          43\n",
              "\n",
              "[5 rows x 8 columns]"
            ]
          },
          "metadata": {
            "tags": []
          },
          "execution_count": 51
        }
      ]
    },
    {
      "cell_type": "code",
      "metadata": {
        "colab": {
          "base_uri": "https://localhost:8080/",
          "height": 391
        },
        "id": "4zD-RY1EMcqt",
        "outputId": "7037c632-20a5-46e2-a165-371ef5b7ea26"
      },
      "source": [
        "con.execute(\"SELECT * FROM msg_df LIMIT 5\").fetch_df() # -> In 5 dòng đầu tiên của bảng msg_df ra Dataframe"
      ],
      "execution_count": 52,
      "outputs": [
        {
          "output_type": "execute_result",
          "data": {
            "text/html": [
              "<div>\n",
              "<style scoped>\n",
              "    .dataframe tbody tr th:only-of-type {\n",
              "        vertical-align: middle;\n",
              "    }\n",
              "\n",
              "    .dataframe tbody tr th {\n",
              "        vertical-align: top;\n",
              "    }\n",
              "\n",
              "    .dataframe thead th {\n",
              "        text-align: right;\n",
              "    }\n",
              "</style>\n",
              "<table border=\"1\" class=\"dataframe\">\n",
              "  <thead>\n",
              "    <tr style=\"text-align: right;\">\n",
              "      <th></th>\n",
              "      <th>channel_id</th>\n",
              "      <th>msg_id</th>\n",
              "      <th>msg_ts</th>\n",
              "      <th>user_id</th>\n",
              "      <th>latest_reply</th>\n",
              "      <th>reply_user_count</th>\n",
              "      <th>reply_users</th>\n",
              "      <th>github_link</th>\n",
              "    </tr>\n",
              "  </thead>\n",
              "  <tbody>\n",
              "    <tr>\n",
              "      <th>0</th>\n",
              "      <td>C01B4PVGLVB</td>\n",
              "      <td>0b9a47d9-900e-4dcf-af8f-8897e6fe6fdd</td>\n",
              "      <td>2021-05-28 15:35:27.004100</td>\n",
              "      <td>U01BE2PR6LU</td>\n",
              "      <td>1970-01-01 00:00:00.000000</td>\n",
              "      <td>0</td>\n",
              "      <td>NaN</td>\n",
              "      <td>NaN</td>\n",
              "    </tr>\n",
              "    <tr>\n",
              "      <th>1</th>\n",
              "      <td>C01B4PVGLVB</td>\n",
              "      <td>DEBF1A3C-17AA-4D53-AC27-1FE0884243DB</td>\n",
              "      <td>2021-05-28 13:50:27.000800</td>\n",
              "      <td>U01JQ5U1RPV</td>\n",
              "      <td>2021-05-28 13:51:51.001200</td>\n",
              "      <td>1</td>\n",
              "      <td>NaN</td>\n",
              "      <td>NaN</td>\n",
              "    </tr>\n",
              "    <tr>\n",
              "      <th>2</th>\n",
              "      <td>C01B4PVGLVB</td>\n",
              "      <td>48ba219d-fda8-40f2-be65-00735c058071</td>\n",
              "      <td>2021-05-25 04:59:27.000600</td>\n",
              "      <td>U01BE2PR6LU</td>\n",
              "      <td>2021-05-25 06:04:44.006500</td>\n",
              "      <td>4</td>\n",
              "      <td>NaN</td>\n",
              "      <td>NaN</td>\n",
              "    </tr>\n",
              "    <tr>\n",
              "      <th>3</th>\n",
              "      <td>C01B4PVGLVB</td>\n",
              "      <td>89919b55-bfe9-4c15-bf45-3021048c7c28</td>\n",
              "      <td>2021-05-24 11:49:08.061100</td>\n",
              "      <td>U01BE2PR6LU</td>\n",
              "      <td>1970-01-01 00:00:00.000000</td>\n",
              "      <td>0</td>\n",
              "      <td>NaN</td>\n",
              "      <td>NaN</td>\n",
              "    </tr>\n",
              "    <tr>\n",
              "      <th>4</th>\n",
              "      <td>C01B4PVGLVB</td>\n",
              "      <td>18467584-5810-4bb9-80fe-4b92af9b28d0</td>\n",
              "      <td>2021-05-23 16:26:04.057000</td>\n",
              "      <td>U01UTGT8CVA</td>\n",
              "      <td>2021-05-24 08:36:52.058100</td>\n",
              "      <td>2</td>\n",
              "      <td>NaN</td>\n",
              "      <td>NaN</td>\n",
              "    </tr>\n",
              "  </tbody>\n",
              "</table>\n",
              "</div>"
            ],
            "text/plain": [
              "    channel_id                                msg_id  ... reply_users github_link\n",
              "0  C01B4PVGLVB  0b9a47d9-900e-4dcf-af8f-8897e6fe6fdd  ...         NaN         NaN\n",
              "1  C01B4PVGLVB  DEBF1A3C-17AA-4D53-AC27-1FE0884243DB  ...         NaN         NaN\n",
              "2  C01B4PVGLVB  48ba219d-fda8-40f2-be65-00735c058071  ...         NaN         NaN\n",
              "3  C01B4PVGLVB  89919b55-bfe9-4c15-bf45-3021048c7c28  ...         NaN         NaN\n",
              "4  C01B4PVGLVB  18467584-5810-4bb9-80fe-4b92af9b28d0  ...         NaN         NaN\n",
              "\n",
              "[5 rows x 8 columns]"
            ]
          },
          "metadata": {
            "tags": []
          },
          "execution_count": 52
        }
      ]
    },
    {
      "cell_type": "code",
      "metadata": {
        "colab": {
          "base_uri": "https://localhost:8080/",
          "height": 483
        },
        "id": "n7KQGK8ZMgNk",
        "outputId": "8c86b3d4-8ade-44c2-8a93-1b14a13c3735"
      },
      "source": [
        "## Đoạn code dưới: Theo từng channel, count số message (phải join với bảng channel_df để lấy tên channel)\n",
        "SQL = '''\n",
        "SELECT \n",
        "  t2.channel_name,\n",
        "  COUNT(DISTINCT t1.msg_id) AS msg_cnt\n",
        "FROM msg_df AS t1\n",
        "JOIN channel_df AS t2\n",
        "ON t1.channel_id = t2.channel_id\n",
        "GROUP BY t2.channel_name \n",
        "ORDER BY COUNT(DISTINCT t1.msg_id) DESC\n",
        "'''\n",
        "con.execute(SQL).fetch_df()"
      ],
      "execution_count": 53,
      "outputs": [
        {
          "output_type": "execute_result",
          "data": {
            "text/html": [
              "<div>\n",
              "<style scoped>\n",
              "    .dataframe tbody tr th:only-of-type {\n",
              "        vertical-align: middle;\n",
              "    }\n",
              "\n",
              "    .dataframe tbody tr th {\n",
              "        vertical-align: top;\n",
              "    }\n",
              "\n",
              "    .dataframe thead th {\n",
              "        text-align: right;\n",
              "    }\n",
              "</style>\n",
              "<table border=\"1\" class=\"dataframe\">\n",
              "  <thead>\n",
              "    <tr style=\"text-align: right;\">\n",
              "      <th></th>\n",
              "      <th>channel_name</th>\n",
              "      <th>msg_cnt</th>\n",
              "    </tr>\n",
              "  </thead>\n",
              "  <tbody>\n",
              "    <tr>\n",
              "      <th>0</th>\n",
              "      <td>general</td>\n",
              "      <td>44</td>\n",
              "    </tr>\n",
              "    <tr>\n",
              "      <th>1</th>\n",
              "      <td>atom-assignment1</td>\n",
              "      <td>42</td>\n",
              "    </tr>\n",
              "    <tr>\n",
              "      <th>2</th>\n",
              "      <td>atom-assignment2</td>\n",
              "      <td>42</td>\n",
              "    </tr>\n",
              "    <tr>\n",
              "      <th>3</th>\n",
              "      <td>atom-assignment3</td>\n",
              "      <td>38</td>\n",
              "    </tr>\n",
              "    <tr>\n",
              "      <th>4</th>\n",
              "      <td>discuss-group1</td>\n",
              "      <td>32</td>\n",
              "    </tr>\n",
              "    <tr>\n",
              "      <th>5</th>\n",
              "      <td>atom-assignment4</td>\n",
              "      <td>23</td>\n",
              "    </tr>\n",
              "    <tr>\n",
              "      <th>6</th>\n",
              "      <td>discuss-group3</td>\n",
              "      <td>18</td>\n",
              "    </tr>\n",
              "    <tr>\n",
              "      <th>7</th>\n",
              "      <td>topics-python</td>\n",
              "      <td>13</td>\n",
              "    </tr>\n",
              "    <tr>\n",
              "      <th>8</th>\n",
              "      <td>discuss-group4</td>\n",
              "      <td>12</td>\n",
              "    </tr>\n",
              "    <tr>\n",
              "      <th>9</th>\n",
              "      <td>atom-week1</td>\n",
              "      <td>6</td>\n",
              "    </tr>\n",
              "    <tr>\n",
              "      <th>10</th>\n",
              "      <td>discuss-group2</td>\n",
              "      <td>6</td>\n",
              "    </tr>\n",
              "    <tr>\n",
              "      <th>11</th>\n",
              "      <td>topics-materials</td>\n",
              "      <td>3</td>\n",
              "    </tr>\n",
              "    <tr>\n",
              "      <th>12</th>\n",
              "      <td>atom-week3</td>\n",
              "      <td>2</td>\n",
              "    </tr>\n",
              "    <tr>\n",
              "      <th>13</th>\n",
              "      <td>atom-week4</td>\n",
              "      <td>2</td>\n",
              "    </tr>\n",
              "  </tbody>\n",
              "</table>\n",
              "</div>"
            ],
            "text/plain": [
              "        channel_name  msg_cnt\n",
              "0            general       44\n",
              "1   atom-assignment1       42\n",
              "2   atom-assignment2       42\n",
              "3   atom-assignment3       38\n",
              "4     discuss-group1       32\n",
              "5   atom-assignment4       23\n",
              "6     discuss-group3       18\n",
              "7      topics-python       13\n",
              "8     discuss-group4       12\n",
              "9         atom-week1        6\n",
              "10    discuss-group2        6\n",
              "11  topics-materials        3\n",
              "12        atom-week3        2\n",
              "13        atom-week4        2"
            ]
          },
          "metadata": {
            "tags": []
          },
          "execution_count": 53
        }
      ]
    },
    {
      "cell_type": "code",
      "metadata": {
        "colab": {
          "base_uri": "https://localhost:8080/",
          "height": 142
        },
        "id": "igVQfVYpMjkO",
        "outputId": "fa057ff6-f9d7-4cd9-bccf-09fba0b05658"
      },
      "source": [
        "## Đoạn code dưới: Lấy top 3 mentors post nhiều message nhất trong discuss-group của các nhóm\n",
        "SQL = '''\n",
        "WITH msg_cnt AS ( ------------- > (1) Chain SQL: tạo bảng tạm thời msg_cnt: count số msg theo user, theo channel\n",
        "  SELECT \n",
        "    user_id,\n",
        "    channel_id,\n",
        "    COUNT(msg_id) AS msg_cnt\n",
        "  FROM msg_df \n",
        "  GROUP BY 1, 2\n",
        ")\n",
        "SELECT\n",
        "  t2.real_name,\n",
        "  t3.channel_name,\n",
        "  t1.msg_cnt,\n",
        "  t2.DataCracy_role\n",
        "FROM msg_cnt AS t1\n",
        "JOIN members_df AS t2 --- > (2) Join msg_count với members_df để lấy tên và role\n",
        "ON t1.user_id = t2.user_id\n",
        "JOIN channel_df AS t3 --> (3) Join với channel_df để lấy tên channel\n",
        "ON t1.channel_id = t3.channel_id\n",
        "WHERE t2.DataCracy_role LIKE 'Mentor%' ---- > (4) Filter Mentors\n",
        "AND t3.channel_name LIKE 'discuss-group%' ---- > (5) Filter channel discuss theo các group\n",
        "ORDER BY t1.msg_cnt DESC ---- > (6) Sắp xếp theo số msg từ cao xuống thấp\n",
        "LIMIT 3 ---> (7) Lấy top 3\n",
        "'''\n",
        "con.execute(SQL).fetch_df()"
      ],
      "execution_count": 118,
      "outputs": [
        {
          "output_type": "execute_result",
          "data": {
            "text/html": [
              "<div>\n",
              "<style scoped>\n",
              "    .dataframe tbody tr th:only-of-type {\n",
              "        vertical-align: middle;\n",
              "    }\n",
              "\n",
              "    .dataframe tbody tr th {\n",
              "        vertical-align: top;\n",
              "    }\n",
              "\n",
              "    .dataframe thead th {\n",
              "        text-align: right;\n",
              "    }\n",
              "</style>\n",
              "<table border=\"1\" class=\"dataframe\">\n",
              "  <thead>\n",
              "    <tr style=\"text-align: right;\">\n",
              "      <th></th>\n",
              "      <th>real_name</th>\n",
              "      <th>channel_name</th>\n",
              "      <th>msg_cnt</th>\n",
              "      <th>DataCracy_role</th>\n",
              "    </tr>\n",
              "  </thead>\n",
              "  <tbody>\n",
              "    <tr>\n",
              "      <th>0</th>\n",
              "      <td>Phu NDT</td>\n",
              "      <td>discuss-group1</td>\n",
              "      <td>11</td>\n",
              "      <td>Mentor_Gr1</td>\n",
              "    </tr>\n",
              "    <tr>\n",
              "      <th>1</th>\n",
              "      <td>Nguyễn Quang Long</td>\n",
              "      <td>discuss-group3</td>\n",
              "      <td>10</td>\n",
              "      <td>Mentor_Gr3</td>\n",
              "    </tr>\n",
              "    <tr>\n",
              "      <th>2</th>\n",
              "      <td>Thuy Nguyen</td>\n",
              "      <td>discuss-group4</td>\n",
              "      <td>4</td>\n",
              "      <td>Mentor_Gr4</td>\n",
              "    </tr>\n",
              "  </tbody>\n",
              "</table>\n",
              "</div>"
            ],
            "text/plain": [
              "           real_name    channel_name  msg_cnt DataCracy_role\n",
              "0            Phu NDT  discuss-group1       11     Mentor_Gr1\n",
              "1  Nguyễn Quang Long  discuss-group3       10     Mentor_Gr3\n",
              "2        Thuy Nguyen  discuss-group4        4     Mentor_Gr4"
            ]
          },
          "metadata": {
            "tags": []
          },
          "execution_count": 118
        }
      ]
    },
    {
      "cell_type": "markdown",
      "metadata": {
        "id": "LYV4U3QYMtiU"
      },
      "source": [
        "**TODO#6: SQL**"
      ]
    },
    {
      "cell_type": "code",
      "metadata": {
        "colab": {
          "base_uri": "https://localhost:8080/",
          "height": 142
        },
        "id": "N2jECjZ8gZ3U",
        "outputId": "f38b6279-c568-4670-dd93-598c70b1c997"
      },
      "source": [
        "#Learners group nào hoạt động tích cực nhất trên Slack nhất?\n",
        "SQL_1_1 = '''\n",
        "WITH msg_cnt AS (---> (1) Chain SQL: tạo bảng tạm thời msg_cnt: count số msg theo user, theo channel\n",
        "  SELECT user_id, COUNT(msg_id) AS msg_cnt FROM msg_df GROUP BY 1)\n",
        "SELECT t2.real_name, t1.msg_cnt, t2.DataCracy_role FROM msg_cnt AS t1\n",
        "JOIN members_df AS t2 --- > (2) Join msg_count với members_df để lấy tên và role\n",
        "ON t1.user_id = t2.user_id\n",
        "WHERE t2.DataCracy_role LIKE 'Learner%' --- > (3) Lọc Learners\n",
        "ORDER BY t1.msg_cnt DESC --- > (4) Sắp xếp theo thứ tự msg\n",
        "LIMIT 3 ---> (5) Lấy top 3\n",
        "'''\n",
        "con.execute(SQL_1_1).fetch_df()"
      ],
      "execution_count": 140,
      "outputs": [
        {
          "output_type": "execute_result",
          "data": {
            "text/html": [
              "<div>\n",
              "<style scoped>\n",
              "    .dataframe tbody tr th:only-of-type {\n",
              "        vertical-align: middle;\n",
              "    }\n",
              "\n",
              "    .dataframe tbody tr th {\n",
              "        vertical-align: top;\n",
              "    }\n",
              "\n",
              "    .dataframe thead th {\n",
              "        text-align: right;\n",
              "    }\n",
              "</style>\n",
              "<table border=\"1\" class=\"dataframe\">\n",
              "  <thead>\n",
              "    <tr style=\"text-align: right;\">\n",
              "      <th></th>\n",
              "      <th>real_name</th>\n",
              "      <th>msg_cnt</th>\n",
              "      <th>DataCracy_role</th>\n",
              "    </tr>\n",
              "  </thead>\n",
              "  <tbody>\n",
              "    <tr>\n",
              "      <th>0</th>\n",
              "      <td>Việt Hồng Chu</td>\n",
              "      <td>15</td>\n",
              "      <td>Learner_Gr1</td>\n",
              "    </tr>\n",
              "    <tr>\n",
              "      <th>1</th>\n",
              "      <td>Hanh Nguyen</td>\n",
              "      <td>11</td>\n",
              "      <td>Learner_Gr4</td>\n",
              "    </tr>\n",
              "    <tr>\n",
              "      <th>2</th>\n",
              "      <td>Quan Nguyễn</td>\n",
              "      <td>10</td>\n",
              "      <td>Learner_Gr4</td>\n",
              "    </tr>\n",
              "  </tbody>\n",
              "</table>\n",
              "</div>"
            ],
            "text/plain": [
              "       real_name  msg_cnt DataCracy_role\n",
              "0  Việt Hồng Chu       15    Learner_Gr1\n",
              "1    Hanh Nguyen       11    Learner_Gr4\n",
              "2    Quan Nguyễn       10    Learner_Gr4"
            ]
          },
          "metadata": {
            "tags": []
          },
          "execution_count": 140
        }
      ]
    },
    {
      "cell_type": "code",
      "metadata": {
        "colab": {
          "base_uri": "https://localhost:8080/",
          "height": 97
        },
        "id": "piqNQ4R9h2Ob",
        "outputId": "c9a68038-9e9a-43e4-a371-eb918fc256b9"
      },
      "source": [
        "#Learners nào nộp bài sớm nhất trong Assignment 1?\n",
        "SQL_2_1 = '''\n",
        "SELECT ms.user_id, mb.real_name, DataCracy_role, channel_name, msg_ts datetime, github_link\n",
        "\n",
        "FROM members_df mb JOIN msg_df ms on mb.user_id = ms.user_id\n",
        "JOIN channel_df ch ON ch.channel_id=ms.channel_id\n",
        "\n",
        "WHERE ms.msg_ts = (SELECT Min(ms.msg_ts) \n",
        "                    FROM msg_df ms join channel_df ch ON ms.channel_id = ch.channel_id \n",
        "                        JOIN members_df mb ON mb.user_id = ms.user_id\n",
        "                    WHERE ch.channel_name = 'atom-assignment1' AND ms.github_link != 'NaN' \n",
        "                        AND mb.DataCracy_role like 'Learner%' )\n",
        "'''\n",
        "con.execute(SQL_2_1).fetch_df()"
      ],
      "execution_count": 145,
      "outputs": [
        {
          "output_type": "execute_result",
          "data": {
            "text/html": [
              "<div>\n",
              "<style scoped>\n",
              "    .dataframe tbody tr th:only-of-type {\n",
              "        vertical-align: middle;\n",
              "    }\n",
              "\n",
              "    .dataframe tbody tr th {\n",
              "        vertical-align: top;\n",
              "    }\n",
              "\n",
              "    .dataframe thead th {\n",
              "        text-align: right;\n",
              "    }\n",
              "</style>\n",
              "<table border=\"1\" class=\"dataframe\">\n",
              "  <thead>\n",
              "    <tr style=\"text-align: right;\">\n",
              "      <th></th>\n",
              "      <th>user_id</th>\n",
              "      <th>real_name</th>\n",
              "      <th>DataCracy_role</th>\n",
              "      <th>channel_name</th>\n",
              "      <th>datetime</th>\n",
              "      <th>github_link</th>\n",
              "    </tr>\n",
              "  </thead>\n",
              "  <tbody>\n",
              "    <tr>\n",
              "      <th>0</th>\n",
              "      <td>U01UMJ5AQ0K</td>\n",
              "      <td>Hưng Dương Phan Nam</td>\n",
              "      <td>Learner_Gr1</td>\n",
              "      <td>atom-assignment1</td>\n",
              "      <td>2021-04-21 06:00:34.000800</td>\n",
              "      <td>https://github.com/duongphannamhung/</td>\n",
              "    </tr>\n",
              "  </tbody>\n",
              "</table>\n",
              "</div>"
            ],
            "text/plain": [
              "       user_id  ...                           github_link\n",
              "0  U01UMJ5AQ0K  ...  https://github.com/duongphannamhung/\n",
              "\n",
              "[1 rows x 6 columns]"
            ]
          },
          "metadata": {
            "tags": []
          },
          "execution_count": 145
        }
      ]
    },
    {
      "cell_type": "code",
      "metadata": {
        "colab": {
          "base_uri": "https://localhost:8080/",
          "height": 80
        },
        "id": "qys2GuS3k_e5",
        "outputId": "88328293-e2f8-4de5-f26b-d15a9cd8fe72"
      },
      "source": [
        "#Learners nào nộp bài sớm nhất trong Assignment 2?\n",
        "SQL_2_2 = '''\n",
        "SELECT ms.user_id, mb.real_name, DataCracy_role, channel_name, msg_ts datetime, github_link\n",
        "\n",
        "FROM members_df mb JOIN msg_df ms ON mb.user_id = ms.user_id\n",
        "JOIN channel_df ch ON ch.channel_id=ms.channel_id\n",
        "\n",
        "WHERE ms.msg_ts = (SELECT Min(ms.msg_ts) \n",
        "                    FROM msg_df ms join channel_df ch ON ms.channel_id = ch.channel_id \n",
        "                        join members_df mb ON mb.user_id = ms.user_id\n",
        "                    WHERE ch.channel_name = 'atom-assignment2' AND ms.github_link != 'NaN' \n",
        "                        AND mb.DataCracy_role like 'Learner%' )\n",
        "'''\n",
        "con.execute(SQL_2_2).fetch_df()"
      ],
      "execution_count": 146,
      "outputs": [
        {
          "output_type": "execute_result",
          "data": {
            "text/html": [
              "<div>\n",
              "<style scoped>\n",
              "    .dataframe tbody tr th:only-of-type {\n",
              "        vertical-align: middle;\n",
              "    }\n",
              "\n",
              "    .dataframe tbody tr th {\n",
              "        vertical-align: top;\n",
              "    }\n",
              "\n",
              "    .dataframe thead th {\n",
              "        text-align: right;\n",
              "    }\n",
              "</style>\n",
              "<table border=\"1\" class=\"dataframe\">\n",
              "  <thead>\n",
              "    <tr style=\"text-align: right;\">\n",
              "      <th></th>\n",
              "      <th>user_id</th>\n",
              "      <th>real_name</th>\n",
              "      <th>DataCracy_role</th>\n",
              "      <th>channel_name</th>\n",
              "      <th>datetime</th>\n",
              "      <th>github_link</th>\n",
              "    </tr>\n",
              "  </thead>\n",
              "  <tbody>\n",
              "    <tr>\n",
              "      <th>0</th>\n",
              "      <td>U01UQGZHSTZ</td>\n",
              "      <td>Toan Tran</td>\n",
              "      <td>Learner_Gr2</td>\n",
              "      <td>atom-assignment2</td>\n",
              "      <td>2021-05-12 15:50:48.004</td>\n",
              "      <td>https://github.com/toantran2206/</td>\n",
              "    </tr>\n",
              "  </tbody>\n",
              "</table>\n",
              "</div>"
            ],
            "text/plain": [
              "       user_id  ...                       github_link\n",
              "0  U01UQGZHSTZ  ...  https://github.com/toantran2206/\n",
              "\n",
              "[1 rows x 6 columns]"
            ]
          },
          "metadata": {
            "tags": []
          },
          "execution_count": 146
        }
      ]
    },
    {
      "cell_type": "code",
      "metadata": {
        "colab": {
          "base_uri": "https://localhost:8080/",
          "height": 80
        },
        "id": "RMQZ6w69lQc8",
        "outputId": "8e48adc9-d9d6-4994-b1e8-1198359a1d2a"
      },
      "source": [
        "#Learners nào nộp bài sớm nhất trong Assignment 3?\n",
        "SQL_2_3 = '''\n",
        "SELECT ms.user_id, mb.real_name, DataCracy_role, channel_name, msg_ts datetime, github_link\n",
        "\n",
        "FROM members_df mb JOIN msg_df ms ON mb.user_id = ms.user_id\n",
        "JOIN channel_df ch ON ch.channel_id=ms.channel_id\n",
        "\n",
        "WHERE ms.msg_ts = (SELECT MIN(ms.msg_ts) \n",
        "                    FROM msg_df ms join channel_df ch ON ms.channel_id = ch.channel_id \n",
        "                        join members_df mb ON mb.user_id = ms.user_id\n",
        "                    WHERE ch.channel_name = 'atom-assignment3' AND ms.github_link != 'NaN' \n",
        "                        AND mb.DataCracy_role like 'Learner%' )\n",
        "'''\n",
        "con.execute(SQL_2_3).fetch_df()"
      ],
      "execution_count": 147,
      "outputs": [
        {
          "output_type": "execute_result",
          "data": {
            "text/html": [
              "<div>\n",
              "<style scoped>\n",
              "    .dataframe tbody tr th:only-of-type {\n",
              "        vertical-align: middle;\n",
              "    }\n",
              "\n",
              "    .dataframe tbody tr th {\n",
              "        vertical-align: top;\n",
              "    }\n",
              "\n",
              "    .dataframe thead th {\n",
              "        text-align: right;\n",
              "    }\n",
              "</style>\n",
              "<table border=\"1\" class=\"dataframe\">\n",
              "  <thead>\n",
              "    <tr style=\"text-align: right;\">\n",
              "      <th></th>\n",
              "      <th>user_id</th>\n",
              "      <th>real_name</th>\n",
              "      <th>DataCracy_role</th>\n",
              "      <th>channel_name</th>\n",
              "      <th>datetime</th>\n",
              "      <th>github_link</th>\n",
              "    </tr>\n",
              "  </thead>\n",
              "  <tbody>\n",
              "    <tr>\n",
              "      <th>0</th>\n",
              "      <td>U01UTGRMGEQ</td>\n",
              "      <td>Hanh Nguyen</td>\n",
              "      <td>Learner_Gr4</td>\n",
              "      <td>atom-assignment3</td>\n",
              "      <td>2021-05-16 12:08:08.018900</td>\n",
              "      <td>https://github.com/nguyenhonghanh2511/</td>\n",
              "    </tr>\n",
              "  </tbody>\n",
              "</table>\n",
              "</div>"
            ],
            "text/plain": [
              "       user_id  ...                             github_link\n",
              "0  U01UTGRMGEQ  ...  https://github.com/nguyenhonghanh2511/\n",
              "\n",
              "[1 rows x 6 columns]"
            ]
          },
          "metadata": {
            "tags": []
          },
          "execution_count": 147
        }
      ]
    },
    {
      "cell_type": "code",
      "metadata": {
        "colab": {
          "base_uri": "https://localhost:8080/",
          "height": 452
        },
        "id": "mSm2SsNJlYta",
        "outputId": "0b816b34-13aa-4240-8958-bc698c74a7f0"
      },
      "source": [
        "#Learner nào chưa nộp bài Assignment 3?\n",
        "SQL_1 = '''\n",
        "SELECT mb.user_id, mb.real_name, DataCracy_role\n",
        "FROM members_df mb\n",
        "WHERE mb.DataCracy_role like'Learner%' and \n",
        "mb.user_id not in (select t1.user_id from msg_df t1 join channel_df t2 on t1.channel_id = t2.channel_id \n",
        "JOIN members_df t3 on t3.user_id = t1.user_id\n",
        "WHERE t2.channel_name = 'atom-assignment3' and t1.github_link != 'NaN'\n",
        "                                            and t3.DataCracy_role like'Learner%')\n",
        "'''\n",
        "con.execute(SQL_1).fetch_df()"
      ],
      "execution_count": 144,
      "outputs": [
        {
          "output_type": "execute_result",
          "data": {
            "text/html": [
              "<div>\n",
              "<style scoped>\n",
              "    .dataframe tbody tr th:only-of-type {\n",
              "        vertical-align: middle;\n",
              "    }\n",
              "\n",
              "    .dataframe tbody tr th {\n",
              "        vertical-align: top;\n",
              "    }\n",
              "\n",
              "    .dataframe thead th {\n",
              "        text-align: right;\n",
              "    }\n",
              "</style>\n",
              "<table border=\"1\" class=\"dataframe\">\n",
              "  <thead>\n",
              "    <tr style=\"text-align: right;\">\n",
              "      <th></th>\n",
              "      <th>user_id</th>\n",
              "      <th>real_name</th>\n",
              "      <th>DataCracy_role</th>\n",
              "    </tr>\n",
              "  </thead>\n",
              "  <tbody>\n",
              "    <tr>\n",
              "      <th>0</th>\n",
              "      <td>U01U6JM6LEB</td>\n",
              "      <td>Viet Hoang</td>\n",
              "      <td>Learner_Gr4</td>\n",
              "    </tr>\n",
              "    <tr>\n",
              "      <th>1</th>\n",
              "      <td>U01U8CAMGB1</td>\n",
              "      <td>Ngoc Huyen</td>\n",
              "      <td>Learner_Gr1</td>\n",
              "    </tr>\n",
              "    <tr>\n",
              "      <th>2</th>\n",
              "      <td>U01UEJG8KHU</td>\n",
              "      <td>Trang Nguyễn</td>\n",
              "      <td>Learner_Gr3</td>\n",
              "    </tr>\n",
              "    <tr>\n",
              "      <th>3</th>\n",
              "      <td>U01UJ9M5TU5</td>\n",
              "      <td>Nguyen Thi Kim Minh</td>\n",
              "      <td>Learner_Gr2</td>\n",
              "    </tr>\n",
              "    <tr>\n",
              "      <th>4</th>\n",
              "      <td>U01UMBXJLHG</td>\n",
              "      <td>Nguyen Linh</td>\n",
              "      <td>Learner_Gr1</td>\n",
              "    </tr>\n",
              "    <tr>\n",
              "      <th>5</th>\n",
              "      <td>U01UMC08KL2</td>\n",
              "      <td>Minh-Thu Nguyen Hoang</td>\n",
              "      <td>Learner_Gr4</td>\n",
              "    </tr>\n",
              "    <tr>\n",
              "      <th>6</th>\n",
              "      <td>U01UMC0N5U2</td>\n",
              "      <td>Việt Hồng Chu</td>\n",
              "      <td>Learner_Gr1</td>\n",
              "    </tr>\n",
              "    <tr>\n",
              "      <th>7</th>\n",
              "      <td>U01UTGRP0HJ</td>\n",
              "      <td>Tran Pham</td>\n",
              "      <td>Learner_Gr3</td>\n",
              "    </tr>\n",
              "    <tr>\n",
              "      <th>8</th>\n",
              "      <td>U01UTGRQS9J</td>\n",
              "      <td>Linh Vu</td>\n",
              "      <td>Learner_Gr4</td>\n",
              "    </tr>\n",
              "    <tr>\n",
              "      <th>9</th>\n",
              "      <td>U01VB63LRNC</td>\n",
              "      <td>anh thu nguyen huynh</td>\n",
              "      <td>Learner_Gr4</td>\n",
              "    </tr>\n",
              "    <tr>\n",
              "      <th>10</th>\n",
              "      <td>U01VB6AT4G0</td>\n",
              "      <td>Le Thi Tam</td>\n",
              "      <td>Learner_Gr1</td>\n",
              "    </tr>\n",
              "    <tr>\n",
              "      <th>11</th>\n",
              "      <td>U01VBFY2E59</td>\n",
              "      <td>Gia Hoang Tran</td>\n",
              "      <td>Learner_Gr1</td>\n",
              "    </tr>\n",
              "    <tr>\n",
              "      <th>12</th>\n",
              "      <td>U0233KHLM2M</td>\n",
              "      <td>Vuthanhdat Contact</td>\n",
              "      <td>Learner_Gr4</td>\n",
              "    </tr>\n",
              "  </tbody>\n",
              "</table>\n",
              "</div>"
            ],
            "text/plain": [
              "        user_id              real_name DataCracy_role\n",
              "0   U01U6JM6LEB             Viet Hoang    Learner_Gr4\n",
              "1   U01U8CAMGB1             Ngoc Huyen    Learner_Gr1\n",
              "2   U01UEJG8KHU           Trang Nguyễn    Learner_Gr3\n",
              "3   U01UJ9M5TU5    Nguyen Thi Kim Minh    Learner_Gr2\n",
              "4   U01UMBXJLHG            Nguyen Linh    Learner_Gr1\n",
              "5   U01UMC08KL2  Minh-Thu Nguyen Hoang    Learner_Gr4\n",
              "6   U01UMC0N5U2          Việt Hồng Chu    Learner_Gr1\n",
              "7   U01UTGRP0HJ              Tran Pham    Learner_Gr3\n",
              "8   U01UTGRQS9J                Linh Vu    Learner_Gr4\n",
              "9   U01VB63LRNC   anh thu nguyen huynh    Learner_Gr4\n",
              "10  U01VB6AT4G0             Le Thi Tam    Learner_Gr1\n",
              "11  U01VBFY2E59         Gia Hoang Tran    Learner_Gr1\n",
              "12  U0233KHLM2M     Vuthanhdat Contact    Learner_Gr4"
            ]
          },
          "metadata": {
            "tags": []
          },
          "execution_count": 144
        }
      ]
    },
    {
      "cell_type": "code",
      "metadata": {
        "colab": {
          "base_uri": "https://localhost:8080/",
          "height": 173
        },
        "id": "Et24cFDXm26A",
        "outputId": "d06e9113-79b4-4481-b71d-4fc7a5de3796"
      },
      "source": [
        "#Learner nào chưa nộp bất kỳ 1 assignment nào?\n",
        "\n",
        "SQL_1 = '''\n",
        "SELECT mb.user_id, mb.real_name, DataCracy_role\n",
        "FROM members_df mb\n",
        "WHERE mb.DataCracy_role like'Learner%' and \n",
        "mb.user_id not in (select t1.user_id from msg_df t1 join channel_df t2 on t1.channel_id = t2.channel_id \n",
        "JOIN members_df t3 on t3.user_id = t1.user_id\n",
        "WHERE t2.channel_name like 'atom-assignment_' and t1.github_link != 'NaN'\n",
        "                                            and t3.DataCracy_role like'Learner%')\n",
        "'''\n",
        "con.execute(SQL_1).fetch_df()"
      ],
      "execution_count": 123,
      "outputs": [
        {
          "output_type": "execute_result",
          "data": {
            "text/html": [
              "<div>\n",
              "<style scoped>\n",
              "    .dataframe tbody tr th:only-of-type {\n",
              "        vertical-align: middle;\n",
              "    }\n",
              "\n",
              "    .dataframe tbody tr th {\n",
              "        vertical-align: top;\n",
              "    }\n",
              "\n",
              "    .dataframe thead th {\n",
              "        text-align: right;\n",
              "    }\n",
              "</style>\n",
              "<table border=\"1\" class=\"dataframe\">\n",
              "  <thead>\n",
              "    <tr style=\"text-align: right;\">\n",
              "      <th></th>\n",
              "      <th>user_id</th>\n",
              "      <th>real_name</th>\n",
              "      <th>DataCracy_role</th>\n",
              "    </tr>\n",
              "  </thead>\n",
              "  <tbody>\n",
              "    <tr>\n",
              "      <th>0</th>\n",
              "      <td>U01U8CAMGB1</td>\n",
              "      <td>Ngoc Huyen</td>\n",
              "      <td>Learner_Gr1</td>\n",
              "    </tr>\n",
              "    <tr>\n",
              "      <th>1</th>\n",
              "      <td>U01UMBXJLHG</td>\n",
              "      <td>Nguyen Linh</td>\n",
              "      <td>Learner_Gr1</td>\n",
              "    </tr>\n",
              "    <tr>\n",
              "      <th>2</th>\n",
              "      <td>U01VBFY2E59</td>\n",
              "      <td>Gia Hoang Tran</td>\n",
              "      <td>Learner_Gr1</td>\n",
              "    </tr>\n",
              "    <tr>\n",
              "      <th>3</th>\n",
              "      <td>U0233KHLM2M</td>\n",
              "      <td>Vuthanhdat Contact</td>\n",
              "      <td>Learner_Gr4</td>\n",
              "    </tr>\n",
              "  </tbody>\n",
              "</table>\n",
              "</div>"
            ],
            "text/plain": [
              "       user_id           real_name DataCracy_role\n",
              "0  U01U8CAMGB1          Ngoc Huyen    Learner_Gr1\n",
              "1  U01UMBXJLHG         Nguyen Linh    Learner_Gr1\n",
              "2  U01VBFY2E59      Gia Hoang Tran    Learner_Gr1\n",
              "3  U0233KHLM2M  Vuthanhdat Contact    Learner_Gr4"
            ]
          },
          "metadata": {
            "tags": []
          },
          "execution_count": 123
        }
      ]
    },
    {
      "cell_type": "code",
      "metadata": {
        "colab": {
          "base_uri": "https://localhost:8080/",
          "height": 173
        },
        "id": "BCb6REgWnrRo",
        "outputId": "d3d131ce-68af-4d4a-cf9e-848aeee27ffe"
      },
      "source": [
        "#Tỷ lệ % Learner đã nộp assignment 1, 2, 3, 4?\n",
        "SQL_1 = '''\n",
        "SELECT t1.channel_name, format(t1.submited_cnt * 100/ t.learner_cnt,'P') as 'Tỉ lệ nộp bài (%)'\n",
        "FROM (select count(user_id) as 'learner_cnt'\n",
        "FROM members_df WHERE DataCracy_role like 'Learner%' ) t, \n",
        "    (select count(distinct t2.user_id) as 'submited_cnt', t3.channel_name\n",
        "FROM msg_df t2 JOIN channel_df t3 on t2.channel_id = t3.channel_id JOIN members_df t4 on t4.user_id = t2.user_id\n",
        "WHERE channel_name like'atom-assignment_' and t4.DataCracy_role like 'Learner%' and t2.github_link != 'NaN'\n",
        "        GROUP BY t3.channel_name) t1\n",
        "'''\n",
        "con.execute(SQL_1).fetch_df()"
      ],
      "execution_count": 149,
      "outputs": [
        {
          "output_type": "execute_result",
          "data": {
            "text/html": [
              "<div>\n",
              "<style scoped>\n",
              "    .dataframe tbody tr th:only-of-type {\n",
              "        vertical-align: middle;\n",
              "    }\n",
              "\n",
              "    .dataframe tbody tr th {\n",
              "        vertical-align: top;\n",
              "    }\n",
              "\n",
              "    .dataframe thead th {\n",
              "        text-align: right;\n",
              "    }\n",
              "</style>\n",
              "<table border=\"1\" class=\"dataframe\">\n",
              "  <thead>\n",
              "    <tr style=\"text-align: right;\">\n",
              "      <th></th>\n",
              "      <th>channel_name</th>\n",
              "      <th>Tỉ lệ nộp bài (%)</th>\n",
              "    </tr>\n",
              "  </thead>\n",
              "  <tbody>\n",
              "    <tr>\n",
              "      <th>0</th>\n",
              "      <td>atom-assignment1</td>\n",
              "      <td>71</td>\n",
              "    </tr>\n",
              "    <tr>\n",
              "      <th>1</th>\n",
              "      <td>atom-assignment2</td>\n",
              "      <td>79</td>\n",
              "    </tr>\n",
              "    <tr>\n",
              "      <th>2</th>\n",
              "      <td>atom-assignment3</td>\n",
              "      <td>66</td>\n",
              "    </tr>\n",
              "    <tr>\n",
              "      <th>3</th>\n",
              "      <td>atom-assignment4</td>\n",
              "      <td>41</td>\n",
              "    </tr>\n",
              "  </tbody>\n",
              "</table>\n",
              "</div>"
            ],
            "text/plain": [
              "       channel_name Tỉ lệ nộp bài (%)\n",
              "0  atom-assignment1                71\n",
              "1  atom-assignment2                79\n",
              "2  atom-assignment3                66\n",
              "3  atom-assignment4                41"
            ]
          },
          "metadata": {
            "tags": []
          },
          "execution_count": 149
        }
      ]
    },
    {
      "cell_type": "code",
      "metadata": {
        "colab": {
          "base_uri": "https://localhost:8080/",
          "height": 173
        },
        "id": "E_DqpXOkoS7f",
        "outputId": "a99f2363-bb6c-42e4-be34-98288790de68"
      },
      "source": [
        "#Tỷ lệ % Learner đã submit bài và dc review trong assignment 1, 2, 3, 4?\n",
        "SQL_1 = '''\n",
        "SELECT t1.channel_name, format(t1.submited_cnt * 100/ t.learner_cnt, 'P') as 'Tỉ lệ bài được review (%)'\n",
        "FROM (select count(user_id) as 'learner_cnt'\n",
        "FROM members_df WHERE DataCracy_role like 'Learner%' ) t, \n",
        "    (select count(distinct t2.user_id) as 'submited_cnt', t3.channel_name\n",
        "FROM msg_df t2 join channel_df t3 on t2.channel_id = t3.channel_id\n",
        "JOIN members_df t4 on t4.user_id = t2.user_id\n",
        "WHERE channel_name like'atom-assignment_' and t4.DataCracy_role like 'Learner%' and t2.github_link != 'NaN'\n",
        "        and t2.reply_user_count > 0\n",
        "        GROUP BY t3.channel_name) t1\n",
        "'''\n",
        "con.execute(SQL_1).fetch_df()"
      ],
      "execution_count": 126,
      "outputs": [
        {
          "output_type": "execute_result",
          "data": {
            "text/html": [
              "<div>\n",
              "<style scoped>\n",
              "    .dataframe tbody tr th:only-of-type {\n",
              "        vertical-align: middle;\n",
              "    }\n",
              "\n",
              "    .dataframe tbody tr th {\n",
              "        vertical-align: top;\n",
              "    }\n",
              "\n",
              "    .dataframe thead th {\n",
              "        text-align: right;\n",
              "    }\n",
              "</style>\n",
              "<table border=\"1\" class=\"dataframe\">\n",
              "  <thead>\n",
              "    <tr style=\"text-align: right;\">\n",
              "      <th></th>\n",
              "      <th>channel_name</th>\n",
              "      <th>Tỉ lệ bài được review (%)</th>\n",
              "    </tr>\n",
              "  </thead>\n",
              "  <tbody>\n",
              "    <tr>\n",
              "      <th>0</th>\n",
              "      <td>atom-assignment1</td>\n",
              "      <td>61</td>\n",
              "    </tr>\n",
              "    <tr>\n",
              "      <th>1</th>\n",
              "      <td>atom-assignment2</td>\n",
              "      <td>74</td>\n",
              "    </tr>\n",
              "    <tr>\n",
              "      <th>2</th>\n",
              "      <td>atom-assignment3</td>\n",
              "      <td>38</td>\n",
              "    </tr>\n",
              "    <tr>\n",
              "      <th>3</th>\n",
              "      <td>atom-assignment4</td>\n",
              "      <td>2</td>\n",
              "    </tr>\n",
              "  </tbody>\n",
              "</table>\n",
              "</div>"
            ],
            "text/plain": [
              "       channel_name Tỉ lệ bài được review (%)\n",
              "0  atom-assignment1                        61\n",
              "1  atom-assignment2                        74\n",
              "2  atom-assignment3                        38\n",
              "3  atom-assignment4                         2"
            ]
          },
          "metadata": {
            "tags": []
          },
          "execution_count": 126
        }
      ]
    },
    {
      "cell_type": "code",
      "metadata": {
        "colab": {
          "base_uri": "https://localhost:8080/",
          "height": 80
        },
        "id": "MiAVCYinpIfd",
        "outputId": "b9526853-11eb-4db1-c8b5-43a2fd4e1238"
      },
      "source": [
        "#Learners theo Group nào có tỷ lệ % hoàn thành bài tập cao nhất?\n",
        "SQL_1 = '''\n",
        "WITH report_byGroup AS(\n",
        "SELECT t1.channel_name,t1.DataCracy_role, (t1.submited_cnt * 100/ t.learner_cnt) as 'Ti_le_nop'\n",
        "FROM (select count(user_id) as 'learner_cnt', DataCracy_role\n",
        "FROM members_df WHERE DataCracy_role like 'Learner%'\n",
        "        GROUP BY DataCracy_role ) t join\n",
        "    (select count(distinct t2.user_id) as 'submited_cnt', t3.channel_name,t4.DataCracy_role \n",
        "FROM msg_df t2 join channel_df t3 on t2.channel_id = t3.channel_id\n",
        "JOIN members_df t4 on t4.user_id = t2.user_id\n",
        "WHERE channel_name like'atom-assignment_' and t4.DataCracy_role like 'Learner%' and t2.github_link != 'NaN'\n",
        "        GROUP BY t3.channel_name,t4.DataCracy_role  ) t1 \n",
        "    on t.DataCracy_role = t1.DataCracy_role)\n",
        "SELECT re.DataCracy_role, round(avg(re.Ti_le_nop),2) as 'Tỉ lệ hoàn thành bài tập (%)'\n",
        "FROM report_byGroup re GROUP BY re.DataCracy_role\n",
        "having  avg(re.Ti_le_nop) >= all(select avg(Ti_le_nop)\n",
        "FROM report_byGroup GROUP BY DataCracy_role)\n",
        "'''\n",
        "con.execute(SQL_1).fetch_df()"
      ],
      "execution_count": 111,
      "outputs": [
        {
          "output_type": "execute_result",
          "data": {
            "text/html": [
              "<div>\n",
              "<style scoped>\n",
              "    .dataframe tbody tr th:only-of-type {\n",
              "        vertical-align: middle;\n",
              "    }\n",
              "\n",
              "    .dataframe tbody tr th {\n",
              "        vertical-align: top;\n",
              "    }\n",
              "\n",
              "    .dataframe thead th {\n",
              "        text-align: right;\n",
              "    }\n",
              "</style>\n",
              "<table border=\"1\" class=\"dataframe\">\n",
              "  <thead>\n",
              "    <tr style=\"text-align: right;\">\n",
              "      <th></th>\n",
              "      <th>DataCracy_role</th>\n",
              "      <th>Tỉ lệ hoàn thành bài tập (%)</th>\n",
              "    </tr>\n",
              "  </thead>\n",
              "  <tbody>\n",
              "    <tr>\n",
              "      <th>0</th>\n",
              "      <td>Learner_Gr2</td>\n",
              "      <td>80.0</td>\n",
              "    </tr>\n",
              "  </tbody>\n",
              "</table>\n",
              "</div>"
            ],
            "text/plain": [
              "  DataCracy_role  Tỉ lệ hoàn thành bài tập (%)\n",
              "0    Learner_Gr2                          80.0"
            ]
          },
          "metadata": {
            "tags": []
          },
          "execution_count": 111
        }
      ]
    },
    {
      "cell_type": "markdown",
      "metadata": {
        "id": "Im-0conYp2mu"
      },
      "source": [
        "**Pandas vs. SQL**"
      ]
    },
    {
      "cell_type": "code",
      "metadata": {
        "colab": {
          "base_uri": "https://localhost:8080/"
        },
        "id": "A_TfnXtTp9OE",
        "outputId": "b63c39ee-161b-4c44-98aa-712c1faeb189"
      },
      "source": [
        "## Ví dụ: Đoạn code (Pandas) sau làm\n",
        "## 1. Group by channel_id\n",
        "## 2. Count các message\n",
        "## 3. Sắp xếp theo thứ tự số message từ cao xuống thấp (ascending=False)\n",
        "## 4. Filter lấy Top 5\n",
        "msg_df.groupby('channel_id')['msg_id'].count().sort_values(ascending=False).head(5)"
      ],
      "execution_count": 105,
      "outputs": [
        {
          "output_type": "execute_result",
          "data": {
            "text/plain": [
              "channel_id\n",
              "C01B4PVGLVB    44\n",
              "C021FSDN7LJ    42\n",
              "C01U6P7LZ8F    42\n",
              "C0227A51SAY    38\n",
              "C0220KU9399    32\n",
              "Name: msg_id, dtype: int64"
            ]
          },
          "metadata": {
            "tags": []
          },
          "execution_count": 105
        }
      ]
    },
    {
      "cell_type": "code",
      "metadata": {
        "colab": {
          "base_uri": "https://localhost:8080/",
          "height": 204
        },
        "id": "IhrgGw-wqBpe",
        "outputId": "e14de522-1ce6-4048-9490-f20559cdb2ea"
      },
      "source": [
        "## Kết quả tương ứng bằng SQL\n",
        "SQL = '''\n",
        "  SELECT \n",
        "    channel_id,\n",
        "    COUNT(msg_id) AS msg_cnt\n",
        "  FROM msg_df \n",
        "  GROUP BY 1\n",
        "  ORDER BY COUNT(msg_id) DESC\n",
        "  LIMIT 5\n",
        "'''\n",
        "con.execute(SQL).fetch_df()"
      ],
      "execution_count": 106,
      "outputs": [
        {
          "output_type": "execute_result",
          "data": {
            "text/html": [
              "<div>\n",
              "<style scoped>\n",
              "    .dataframe tbody tr th:only-of-type {\n",
              "        vertical-align: middle;\n",
              "    }\n",
              "\n",
              "    .dataframe tbody tr th {\n",
              "        vertical-align: top;\n",
              "    }\n",
              "\n",
              "    .dataframe thead th {\n",
              "        text-align: right;\n",
              "    }\n",
              "</style>\n",
              "<table border=\"1\" class=\"dataframe\">\n",
              "  <thead>\n",
              "    <tr style=\"text-align: right;\">\n",
              "      <th></th>\n",
              "      <th>channel_id</th>\n",
              "      <th>msg_cnt</th>\n",
              "    </tr>\n",
              "  </thead>\n",
              "  <tbody>\n",
              "    <tr>\n",
              "      <th>0</th>\n",
              "      <td>C01B4PVGLVB</td>\n",
              "      <td>44</td>\n",
              "    </tr>\n",
              "    <tr>\n",
              "      <th>1</th>\n",
              "      <td>C01U6P7LZ8F</td>\n",
              "      <td>42</td>\n",
              "    </tr>\n",
              "    <tr>\n",
              "      <th>2</th>\n",
              "      <td>C021FSDN7LJ</td>\n",
              "      <td>42</td>\n",
              "    </tr>\n",
              "    <tr>\n",
              "      <th>3</th>\n",
              "      <td>C0227A51SAY</td>\n",
              "      <td>38</td>\n",
              "    </tr>\n",
              "    <tr>\n",
              "      <th>4</th>\n",
              "      <td>C0220KU9399</td>\n",
              "      <td>32</td>\n",
              "    </tr>\n",
              "  </tbody>\n",
              "</table>\n",
              "</div>"
            ],
            "text/plain": [
              "    channel_id  msg_cnt\n",
              "0  C01B4PVGLVB       44\n",
              "1  C01U6P7LZ8F       42\n",
              "2  C021FSDN7LJ       42\n",
              "3  C0227A51SAY       38\n",
              "4  C0220KU9399       32"
            ]
          },
          "metadata": {
            "tags": []
          },
          "execution_count": 106
        }
      ]
    }
  ]
}